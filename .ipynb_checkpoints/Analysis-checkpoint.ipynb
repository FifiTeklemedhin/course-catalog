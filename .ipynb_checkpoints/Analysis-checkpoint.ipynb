{
 "cells": [
  {
   "cell_type": "code",
   "execution_count": 1,
   "metadata": {
    "collapsed": true
   },
   "outputs": [],
   "source": [
    "data = None\n",
    "\n",
    "with open('fas_crse_cat.txt', 'r') as f:\n",
    "    raw_content = f.read()\n",
    "    data = f.read().splitlines()"
   ]
  },
  {
   "cell_type": "code",
   "execution_count": 2,
   "metadata": {
    "collapsed": false
   },
   "outputs": [],
   "source": [
    "from bs4 import BeautifulSoup"
   ]
  },
  {
   "cell_type": "code",
   "execution_count": 3,
   "metadata": {
    "collapsed": true
   },
   "outputs": [],
   "source": [
    "raw_content\n",
    "\n",
    "with open('fas_crse_cat.html', 'r') as f:\n",
    "    raw_content = f.read()\n",
    "    \n",
    "soup = BeautifulSoup(raw_content, 'html.parser')"
   ]
  },
  {
   "cell_type": "code",
   "execution_count": 4,
   "metadata": {
    "collapsed": false,
    "scrolled": true
   },
   "outputs": [
    {
     "data": {
      "text/plain": [
       "''"
      ]
     },
     "execution_count": 4,
     "metadata": {},
     "output_type": "execute_result"
    }
   ],
   "source": [
    "# all content will be in div.t\n",
    "# so extract this\n",
    "elts = soup.find_all('div', class_='t')\n",
    "\n",
    "\"\""
   ]
  },
  {
   "cell_type": "code",
   "execution_count": 22,
   "metadata": {
    "collapsed": false,
    "scrolled": true
   },
   "outputs": [],
   "source": [
    "# the .fs2 will be the title\n",
    "# following .fs3 will be descriptive strings\n",
    "\n",
    "groups = []\n",
    "current_group = None\n",
    "\n",
    "for elt in elts:    \n",
    "    if 'fs2' in elt['class']:\n",
    "        # .fs2 marks course titles\n",
    "        \n",
    "        # first, ensure there's something actually here\n",
    "        # FIXME could be bugs here from page breaks\n",
    "        if elt.string is None or elt.string.strip() == \"\":\n",
    "            continue\n",
    "            \n",
    "        # ignore table of contents\n",
    "        \n",
    "        # start a new group\n",
    "        current_group = dict()\n",
    "        groups.append(current_group)\n",
    "        \n",
    "        current_group['name'] = elt.string\n",
    "        current_group['strings'] = []\n",
    "    elif elt is not None:\n",
    "        # these are probably .fs{3,4,5,...}\n",
    "        # these are descriptive strings\n",
    "        \n",
    "        # error checking\n",
    "        if current_group is None:\n",
    "            continue\n",
    "        if elt.string is None:\n",
    "            continue\n",
    "            \n",
    "        # remove page footers\n",
    "        BANNED_STRINGS = (\n",
    "            'HARVARD UNIVERSITY',\n",
    "            '9/4/2017 0:39 AM',\n",
    "            '9/24/2017 0:39 AM',\n",
    "            'HARVARD UNIVERSITY 9/24/2017 0:39 AM'\n",
    "        )\n",
    "        if elt.string in BANNED_STRINGS:\n",
    "            continue\n",
    "            \n",
    "        current_group['strings'].append(elt.string)"
   ]
  },
  {
   "cell_type": "code",
   "execution_count": 23,
   "metadata": {
    "collapsed": false
   },
   "outputs": [],
   "source": [
    "import re \n",
    "\n",
    "for group in groups:\n",
    "    # try to extract a course schedule\n",
    "    times = []\n",
    "    for string in group['strings']:\n",
    "        matcher = re.compile(\"[MTWRF]{1,5} \\d{4} [AP]M - \\d{4} [AP]M\")\n",
    "        times.append(matcher.findall(string))\n",
    "        \n",
    "    flattened_times = sum(times,[])\n",
    "    \n",
    "    # this array will have max 1 element\n",
    "    if len(flattened_times) > 0:\n",
    "        group['schedule'] = flattened_times[0]\n",
    "    else:\n",
    "        group['schedule'] = None\n",
    "    \n",
    "    \n",
    "    # try to extract a semester\n",
    "    for string in group['strings']:\n",
    "        semester = re.search(\"20\\d\\d ((Fall)|(Spring))\", string)\n",
    "        if semester is not None:\n",
    "            # just find the first one then quit\n",
    "            group['semester'] = semester.group()\n",
    "            break\n",
    "        \n",
    "    # so prof name isn't necessarily the first line. but usually it has 2 spaces after it lol\n",
    "    # e.g.\n",
    "    #     \"\"\"\n",
    "    #      'semester': u'2017 Fall',\n",
    "    #       'strings': [u'(123591)',\n",
    "    #        u'Jacob Olupona  ',\n",
    "    #        u'2017 Fall (4 Credits)',\n",
    "    #        u'Schedule: ',\n",
    "    #        u'R 0400 PM - 0559 PM',\n",
    "    #        u'Instructor Permissions:',\n",
    "    #        u'None',\n",
    "    #     \"\"\"\n",
    "    # so we can regex for anything with 2 spaces at the end. hard to structure stuff before\n",
    "    # try to extract a professor\n",
    "    for string in group['strings']:\n",
    "        professor = re.search(\"(.*)  \", string)\n",
    "        if professor is not None:\n",
    "            # just find the first one then quit\n",
    "            group['professor'] = professor.group(1)\n",
    "            break\n",
    "        \n",
    "#     # try to extract a schedule\n",
    "#     for string in group['strings']:\n",
    "#         # empty for now\n",
    "#         group['schedule'] = None\n",
    "        \n",
    "#         # see if there's a course time, e.g. MW 10-12\n",
    "#         time = get_time(string)\n",
    "#         if time is not None:\n",
    "#             # just find the first one then quit\n",
    "#             group['schedule'] = time\n",
    "#             break\n",
    "        "
   ]
  },
  {
   "cell_type": "code",
   "execution_count": 26,
   "metadata": {
    "collapsed": false,
    "scrolled": false
   },
   "outputs": [
    {
     "data": {
      "text/plain": [
       "[{'name': u'Computer Science  189 ',\n",
       "  'professor': u'Radhika Nagpal',\n",
       "  'schedule': u'F 0100 PM - 0359 PM',\n",
       "  'semester': u'2018 Spring',\n",
       "  'strings': [u'Autonomous Robot Systems',\n",
       "   u'Radhika Nagpal  ',\n",
       "   u'2018 Spring (4 Credits)',\n",
       "   u'Schedule: ',\n",
       "   u'F 0100 PM - 0359 PM',\n",
       "   u'Instructor Permissions:',\n",
       "   u'Instructor',\n",
       "   u'Enrollment Cap:',\n",
       "   u'15',\n",
       "   u'Building autonomous robotic systems requires understanding how to make robots that observe, reason, and act.  ',\n",
       "   u'Each component uses many engineering principles: how to fuse, multiple, noisy sensors; how to balance short-term',\n",
       "   u'versus long-term goals; how to control one&apos;s actions and how to coordinate with others. This year theme will be ',\n",
       "   u'\"Robots Roam the Halls\", where we will focus on kinect-based robots that move in the SEAS buildings, to do ',\n",
       "   u'applications like navigating, map building, and interacting with people. The class format will have a mixed lecture ',\n",
       "   u'and lab format, and have a final project component.',\n",
       "   u'Course Notes:',\n",
       "   u'Preference will be given to students with experience in AI (e.g. CS181 or ',\n",
       "   u'CS182 and/or robotics ES159).',\n",
       "   u'Additional Course Attributes:']},\n",
       " {'name': u'Computer Science  191 ',\n",
       "  'professor': u'Harry Lewis',\n",
       "  'schedule': u'MW 0900 AM - 1029 AM',\n",
       "  'semester': u'2018 Spring',\n",
       "  'strings': [u'Harry Lewis  ',\n",
       "   u'2018 Spring (4 Credits)',\n",
       "   u'Schedule: ',\n",
       "   u'MW 0900 AM - 1029 AM',\n",
       "   u'Instructor Permissions:',\n",
       "   u'None',\n",
       "   u'Enrollment Cap:',\n",
       "   u'n/a',\n",
       "   u'Papers every computer scientist should have read, from all areas of the field and dating from its origins to the ',\n",
       "   u'present.',\n",
       "   u'Additional Course Attributes:']},\n",
       " {'name': u'Computer Science  205 ',\n",
       "  'professor': u'Ignacio Llorente',\n",
       "  'schedule': u'TR 0230 PM - 0359 PM',\n",
       "  'semester': u'2018 Spring',\n",
       "  'strings': [u'Computing Foundations for Computational Science',\n",
       "   u'Ignacio Llorente  ',\n",
       "   u'2018 Spring (4 Credits)',\n",
       "   u'Schedule: ',\n",
       "   u'TR 0230 PM - 0359 PM',\n",
       "   u'Instructor Permissions:',\n",
       "   u'None',\n",
       "   u'Enrollment Cap:',\n",
       "   u'n/a',\n",
       "   u'An applications course highlighting the use of computers in solving scientific problems. Students will be exposed to ',\n",
       "   u'fundamental computer science concepts such as computer architectures, data structures, algorithms, and parallel ',\n",
       "   u'computing. Fundamentals of scientific computing including abstract thinking, algorithmic development, and ',\n",
       "   u'assessment of computational approaches. Students will learn to use open source tools and libraries and apply them',\n",
       "   u'to data analysis, modeling, and visualization of real scientific problems. Emphasizes parallel programming and ',\n",
       "   u'\"parallel thinking.\"',\n",
       "   u'Recommended Prep:',\n",
       "   u'Students are expected to have programming experience (e.g., CS50/51, ',\n",
       "   u'fluent in Python, C/C++, or similar). Course will be taught primarily in Python',\n",
       "   u'and C.',\n",
       "   u'Additional Course Attributes:']},\n",
       " {'name': u'Computer Science  207 ',\n",
       "  'professor': u'David Sondak',\n",
       "  'schedule': u'MW 1130 AM - 1259 PM',\n",
       "  'semester': u'2017 Fall',\n",
       "  'strings': [u'David Sondak  ',\n",
       "   u'2017 Fall (4 Credits)',\n",
       "   u'Schedule: ',\n",
       "   u'MW 1130 AM - 1259 PM',\n",
       "   u'Instructor Permissions:',\n",
       "   u'None',\n",
       "   u'Enrollment Cap:',\n",
       "   u'n/a',\n",
       "   u'This is a project-based course emphasizing designing, building, testing, maintaining and modifying software for ',\n",
       "   u'scientific computing. Students will work in groups on a number of projects, ranging from small data-transformation ',\n",
       "   u'utilities to large-scale systems. Students will learn to use a variety of tools and languages, as well as various ',\n",
       "   u'techniques for organizing teams. Most important, students will learn to fit tools and approaches to the problem being',\n",
       "   u'solved.',\n",
       "   u'Recommended Prep:',\n",
       "   u'Students are expected to have basic programming experience (Computer ',\n",
       "   u'Science 50).',\n",
       "   u'Additional Course Attributes:']},\n",
       " {'name': u'Computer Science  221 ',\n",
       "  'professor': u'Madhu Sudan',\n",
       "  'schedule': u'TR 0230 PM - 0359 PM',\n",
       "  'semester': u'2018 Spring',\n",
       "  'strings': [u'Madhu Sudan  ',\n",
       "   u'2018 Spring (4 Credits)',\n",
       "   u'Schedule: ',\n",
       "   u'TR 0230 PM - 0359 PM',\n",
       "   u'Instructor Permissions:',\n",
       "   u'None',\n",
       "   u'Enrollment Cap:',\n",
       "   u'n/a',\n",
       "   u'A quantitative theory of the resources needed for computing and the impediments to efficient computation. The ',\n",
       "   u'models of computation considered include ones that are finite or infinite, deterministic, randomized, quantum or ',\n",
       "   u'nondeterministic, discrete or algebraic, sequential or parallel.',\n",
       "   u'Recommended Prep:',\n",
       "   u'Computer Science 121 or equivalent.',\n",
       "   u'Additional Course Attributes:']},\n",
       " {'name': u'Computer Science  226 ',\n",
       "  'professor': u'Jelani Nelson',\n",
       "  'schedule': u'TR 0230 PM - 0359 PM',\n",
       "  'semester': u'2017 Fall',\n",
       "  'strings': [u'Jelani Nelson  ',\n",
       "   u'2017 Fall (4 Credits)',\n",
       "   u'Schedule: ',\n",
       "   u'TR 0230 PM - 0359 PM',\n",
       "   u'Instructor Permissions:',\n",
       "   u'None',\n",
       "   u'Enrollment Cap:',\n",
       "   u'n/a',\n",
       "   u'Big data is data so large that it does not fit in the main memory of a single machine. The need to process big data ',\n",
       "   u'by space-efficient algorithms arises in Internet search, machine learning, network traffic monitoring, scientific ',\n",
       "   u'computing, signal processing, and other areas. This course will cover mathematically rigorous models for ',\n",
       "   u'developing such algorithms, as well as some provable limitations of algorithms operating in those models. Some ',\n",
       "   u'topics covered include streaming algorithms, dimensionality reduction and sketching, randomized algorithms for ',\n",
       "   u'numerical linear algebra, sparse recovery and the sparse Fourier transform.  The course will also cover some ',\n",
       "   u'applications of these methods.',\n",
       "   u'Recommended Prep:',\n",
       "   u'CS 124; knowledge of discrete probability and linear algebra.',\n",
       "   u'Additional Course Attributes:']},\n",
       " {'name': u'Computer Science  227R ',\n",
       "  'professor': u'Boaz Barak',\n",
       "  'schedule': u'TR 1000 AM - 1129 AM',\n",
       "  'semester': u'2018 Spring',\n",
       "  'strings': [u'Boaz Barak  ',\n",
       "   u'2018 Spring (4 Credits)',\n",
       "   u'Schedule: ',\n",
       "   u'TR 1000 AM - 1129 AM',\n",
       "   u'Instructor Permissions:',\n",
       "   u'None',\n",
       "   u'Enrollment Cap:',\n",
       "   u'n/a',\n",
       "   u'Cryptography is as old as human communication itself, but has undergone a revolution in the last few decades. It is ',\n",
       "   u'now about much more than \"secret writing\" and includes seemingly paradoxical notions such as communicating ',\n",
       "   u'securely without a shared secret, and computing on encrypted data. In this challenging but rewarding course we will',\n",
       "   u'start from the basics of private and public key cryptography and go all the way up to advanced notions such as fully ',\n",
       "   u'homomorphic encryption and software obfuscation. This is a proof-based course that will be best appreciated by ',\n",
       "   u'mathematically mature students.',\n",
       "   u'Course Notes:',\n",
       "   u'This course will be offered in both an undergraduate and graduate versions. ',\n",
       "   u'The graduate version will involve an additional project.',\n",
       "   u'Recommended Prep:',\n",
       "   u'Comfort with mathematical proofs at the level of CS121, CS124 or similar. ',\n",
       "   u'Please contact the instructor if you&apos;re unsure if your background is sufficient.',\n",
       "   u'Additional Course Attributes:']},\n",
       " {'name': u'Computer Science  228 ',\n",
       "  'professor': u'Leslie Valiant',\n",
       "  'schedule': u'TR 0230 PM - 0359 PM',\n",
       "  'semester': u'2018 Spring',\n",
       "  'strings': [u'Leslie Valiant  ',\n",
       "   u'2018 Spring (4 Credits)',\n",
       "   u'Schedule: ',\n",
       "   u'TR 0230 PM - 0359 PM',\n",
       "   u'Instructor Permissions:',\n",
       "   u'None',\n",
       "   u'Enrollment Cap:',\n",
       "   u'n/a',\n",
       "   u'Possibilities of and limitations to performing learning by computational agents. Topics include computational ',\n",
       "   u'models, polynomial time learnability, learning from examples and learning from queries to oracles. Applications to ',\n",
       "   u'Boolean functions, automata and geometric functions.',\n",
       "   u'Recommended Prep:',\n",
       "   u'Computer Science 121 or equivalent.',\n",
       "   u'Additional Course Attributes:']},\n",
       " {'name': u'Computer Science  229R ',\n",
       "  'professor': u'Mrinal Kumar',\n",
       "  'schedule': u'F 1000 AM - 1259 PM',\n",
       "  'semester': u'2017 Fall',\n",
       "  'strings': [u'Mrinal Kumar  ',\n",
       "   u'2017 Fall (4 Credits)',\n",
       "   u'Schedule: ',\n",
       "   u'F 1000 AM - 1259 PM',\n",
       "   u'Instructor Permissions:',\n",
       "   u'None',\n",
       "   u'Enrollment Cap:',\n",
       "   u'n/a',\n",
       "   u'The goal of this course is to provide an introduction to the area of Arithmetic Circuit Complexity and to try and get a ',\n",
       "   u'sense of the power and limitations of arithmetic circuits as a computational model. We hope to see a combination of',\n",
       "   u'both classical and recent results in this area, including some upper bounds, lower bounds and questions about ',\n",
       "   u'factoring and derandomization. ',\n",
       "   u'A more detailed description of the course, and tentative content can be found at ',\n",
       "   u'https://mrinalkr.bitbucket.io/arithmeticcktsF17.html',\n",
       "   u'Recommended Prep:',\n",
       "   u'CS 121/124/125 or equivalents.',\n",
       "   u'Additional Course Attributes:']},\n",
       " {'name': u'Computer Science  234R ',\n",
       "  'professor': u'Yaron Singer',\n",
       "  'schedule': None,\n",
       "  'semester': u'2018 Spring',\n",
       "  'strings': [u'Topics on Computation in Networks and Crowds',\n",
       "   u'Yaron Singer  ',\n",
       "   u'2018 Spring (4 Credits)',\n",
       "   u'Schedule: ',\n",
       "   u'TBD',\n",
       "   u'Instructor Permissions:',\n",
       "   u'None',\n",
       "   u'Enrollment Cap:',\n",
       "   u'n/a',\n",
       "   u'Topics on the design and analysis of algorithms, processes, and systems related to crowds and social networks. ',\n",
       "   u'Readings in AI, theoretical CS, machine learning, social science theory, economic theory, and operations research.',\n",
       "   u'Recommended Prep:',\n",
       "   u'Mathematics 21b, Applied Mathematics 21b, or equivalent; Computer ',\n",
       "   u'Science 124, and 181 or 182, or equivalents; or permission of instructor.',\n",
       "   u'Additional Course Attributes:',\n",
       "   u' ',\n",
       "   u' ']}]"
      ]
     },
     "execution_count": 26,
     "metadata": {},
     "output_type": "execute_result"
    }
   ],
   "source": [
    "groups[1200:1210]"
   ]
  },
  {
   "cell_type": "code",
   "execution_count": 8,
   "metadata": {
    "collapsed": true
   },
   "outputs": [],
   "source": [
    "\n",
    "# dump data to file\n",
    "\n",
    "import json\n",
    "with open('courses_rough.json', 'w') as outfile:\n",
    "    json.dump(groups, outfile)"
   ]
  },
  {
   "cell_type": "code",
   "execution_count": 9,
   "metadata": {
    "collapsed": false
   },
   "outputs": [],
   "source": [
    "# TODO: extract more info"
   ]
  },
  {
   "cell_type": "code",
   "execution_count": null,
   "metadata": {
    "collapsed": true
   },
   "outputs": [],
   "source": []
  },
  {
   "cell_type": "code",
   "execution_count": 10,
   "metadata": {
    "collapsed": true
   },
   "outputs": [],
   "source": [
    "# caleb's analysis\n",
    "# turns it into numbers\n",
    "def get_time(contents):\n",
    "    matcher = re.compile(\"[MTWRF]{1,5} \\d{4} [AP]M - \\d{4} [AP]M\")\n",
    "    times = matcher.findall(contents)\n",
    "\n",
    "    submatcher = re.compile(\"([MTWRF]{1,5}) (\\d{4}) ([AP]M) - (\\d{4}) ([AP]M)\")\n",
    "\n",
    "    for time in times:\n",
    "        timeTuple = submatcher.findall(time)[0]\n",
    "        newTime = [timeTuple[0], int(timeTuple[1]), int(timeTuple[3])]\n",
    "        if timeTuple[2] == \"PM\" and timeTuple[1][0:2] != \"12\":\n",
    "            newTime[1] += 1200\n",
    "        if timeTuple[4] == \"PM\" and timeTuple[3][0:2] != \"12\":\n",
    "            newTime[2] += 1200\n",
    "        newTime[1] = 60 * (newTime[1] // 100) + (newTime[1] % 100)\n",
    "        newTime[2] = 60 * (newTime[2] // 100) + (newTime[2] % 100)\n",
    "        \n",
    "        return dict(\n",
    "            days=newTime[0],\n",
    "            start=newTime[1],\n",
    "            end=newTime[2]\n",
    "        )\n",
    "\n",
    "        return newTime\n",
    "    \n",
    "    # no times found\n",
    "    return None"
   ]
  },
  {
   "cell_type": "code",
   "execution_count": 11,
   "metadata": {
    "collapsed": false
   },
   "outputs": [
    {
     "data": {
      "text/plain": [
       "{'days': 'R', 'end': 1079, 'start': 960}"
      ]
     },
     "execution_count": 11,
     "metadata": {},
     "output_type": "execute_result"
    }
   ],
   "source": [
    "get_time(\"R 0400 PM - 0559 PM\")"
   ]
  },
  {
   "cell_type": "code",
   "execution_count": 12,
   "metadata": {
    "collapsed": false
   },
   "outputs": [
    {
     "name": "stdout",
     "output_type": "stream",
     "text": [
      "None\n"
     ]
    }
   ],
   "source": [
    "print get_time(\"TBD\")"
   ]
  },
  {
   "cell_type": "code",
   "execution_count": null,
   "metadata": {
    "collapsed": true
   },
   "outputs": [],
   "source": []
  },
  {
   "cell_type": "code",
   "execution_count": null,
   "metadata": {
    "collapsed": true
   },
   "outputs": [],
   "source": []
  },
  {
   "cell_type": "code",
   "execution_count": null,
   "metadata": {
    "collapsed": true
   },
   "outputs": [],
   "source": []
  },
  {
   "cell_type": "code",
   "execution_count": null,
   "metadata": {
    "collapsed": true
   },
   "outputs": [],
   "source": []
  },
  {
   "cell_type": "code",
   "execution_count": null,
   "metadata": {
    "collapsed": true
   },
   "outputs": [],
   "source": []
  },
  {
   "cell_type": "code",
   "execution_count": null,
   "metadata": {
    "collapsed": true
   },
   "outputs": [],
   "source": []
  }
 ],
 "metadata": {
  "anaconda-cloud": {},
  "kernelspec": {
   "display_name": "Python [default]",
   "language": "python",
   "name": "python2"
  },
  "language_info": {
   "codemirror_mode": {
    "name": "ipython",
    "version": 2
   },
   "file_extension": ".py",
   "mimetype": "text/x-python",
   "name": "python",
   "nbconvert_exporter": "python",
   "pygments_lexer": "ipython2",
   "version": "2.7.12"
  }
 },
 "nbformat": 4,
 "nbformat_minor": 2
}
