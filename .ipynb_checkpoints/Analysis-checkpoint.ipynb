{
 "cells": [
  {
   "cell_type": "code",
   "execution_count": 3,
   "metadata": {
    "collapsed": true
   },
   "outputs": [],
   "source": [
    "data = None\n",
    "\n",
    "with open('fas_crse_cat.txt', 'r') as f:\n",
    "    raw_content = f.read()\n",
    "    data = f.read().splitlines()"
   ]
  },
  {
   "cell_type": "code",
   "execution_count": 4,
   "metadata": {
    "collapsed": false
   },
   "outputs": [],
   "source": [
    "from bs4 import BeautifulSoup"
   ]
  },
  {
   "cell_type": "code",
   "execution_count": 5,
   "metadata": {
    "collapsed": true
   },
   "outputs": [],
   "source": [
    "raw_content\n",
    "\n",
    "with open('fas_crse_cat.html', 'r') as f:\n",
    "    raw_content = f.read()\n",
    "    \n",
    "soup = BeautifulSoup(raw_content, 'html.parser')"
   ]
  },
  {
   "cell_type": "code",
   "execution_count": 6,
   "metadata": {
    "collapsed": false,
    "scrolled": true
   },
   "outputs": [
    {
     "data": {
      "text/plain": [
       "''"
      ]
     },
     "execution_count": 6,
     "metadata": {},
     "output_type": "execute_result"
    }
   ],
   "source": [
    "# all content will be in div.t\n",
    "# so extract this\n",
    "elts = soup.find_all('div', class_='t')\n",
    "\n",
    "\"\""
   ]
  },
  {
   "cell_type": "code",
   "execution_count": 42,
   "metadata": {
    "collapsed": false,
    "scrolled": true
   },
   "outputs": [],
   "source": [
    "# the .fs2 will be the title\n",
    "# following .fs3 will be descriptive strings\n",
    "\n",
    "groups = []\n",
    "current_group = None\n",
    "\n",
    "for elt in elts:    \n",
    "    if 'fs2' in elt['class']:\n",
    "        # .fs2 marks course titles\n",
    "        \n",
    "        # first, ensure there's something actually here\n",
    "        # FIXME could be bugs here from page breaks\n",
    "        if elt.string is None or elt.string.strip() == \"\":\n",
    "            continue\n",
    "            \n",
    "        # ignore table of contents\n",
    "        \n",
    "        # start a new group\n",
    "        current_group = dict()\n",
    "        groups.append(current_group)\n",
    "        \n",
    "        current_group['name'] = elt.string\n",
    "        current_group['strings'] = []\n",
    "    elif elt is not None:\n",
    "        # these are probably .fs{3,4,5,...}\n",
    "        # these are descriptive strings\n",
    "        \n",
    "        # error checking\n",
    "        if current_group is None:\n",
    "            continue\n",
    "        if elt.string is None:\n",
    "            continue\n",
    "            \n",
    "        # remove page footers\n",
    "        BANNED_STRINGS = (\n",
    "            'HARVARD UNIVERSITY',\n",
    "            '9/4/2017 0:39 AM',\n",
    "            '9/24/2017 0:39 AM',\n",
    "            'HARVARD UNIVERSITY 9/24/2017 0:39 AM'\n",
    "        )\n",
    "        if elt.string in BANNED_STRINGS:\n",
    "            continue\n",
    "            \n",
    "        current_group['strings'].append(elt.string)"
   ]
  },
  {
   "cell_type": "code",
   "execution_count": 45,
   "metadata": {
    "collapsed": false
   },
   "outputs": [],
   "source": [
    "import re \n",
    "\n",
    "for group in groups[0:10]:\n",
    "    # try to extract a course schedule\n",
    "    times = []\n",
    "    for string in group['strings']:\n",
    "        matcher = re.compile(\"[MTWRF]{1,5} \\d{4} [AP]M - \\d{4} [AP]M\")\n",
    "        times.append(matcher.findall(string))\n",
    "        \n",
    "    flattened_times = sum(times,[])\n",
    "    \n",
    "    # this array will have max 1 element\n",
    "    if len(flattened_times) > 0:\n",
    "        group['schedule'] = flattened_times[0]\n",
    "    else:\n",
    "        group['schedule'] = None\n",
    "    \n",
    "    \n",
    "    # try to extract a semester\n",
    "    for string in group['strings']:\n",
    "        semester = re.search(\"20\\d\\d ((Fall)|(Spring))\", string)\n",
    "        if semester is not None:\n",
    "            # just find the first one then quit\n",
    "            group['semester'] = semester.group()\n",
    "            break\n",
    "        \n",
    "#     # try to extract a schedule\n",
    "#     for string in group['strings']:\n",
    "#         # empty for now\n",
    "#         group['schedule'] = None\n",
    "        \n",
    "#         # see if there's a course time, e.g. MW 10-12\n",
    "#         time = get_time(string)\n",
    "#         if time is not None:\n",
    "#             # just find the first one then quit\n",
    "#             group['schedule'] = time\n",
    "#             break\n",
    "        "
   ]
  },
  {
   "cell_type": "code",
   "execution_count": 46,
   "metadata": {
    "collapsed": false,
    "scrolled": false
   },
   "outputs": [
    {
     "data": {
      "text/plain": [
       "[{'name': u'Table of Contents',\n",
       "  'schedule': None,\n",
       "  'strings': [u'African and African American Studies']},\n",
       " {'name': u'Subject: Hausa', 'schedule': None, 'strings': []},\n",
       " {'name': u'Hausa     AA ',\n",
       "  'schedule': None,\n",
       "  'semester': u'2017 Fall',\n",
       "  'strings': [u'John Mugane  ',\n",
       "   u'2017 Fall (4 Credits)',\n",
       "   u'Schedule: ',\n",
       "   u'TBD',\n",
       "   u'Instructor Permissions:',\n",
       "   u'None',\n",
       "   u'Enrollment Cap:',\n",
       "   u'n/a',\n",
       "   u'A study of Hausa a most widely used native language and lingua franca in West Africa at the Elementary level (First',\n",
       "   u'year part 1). Contact hours supplemented by digital resources. Emphasis on written expression, reading ',\n",
       "   u'comprehension, and oral fluency. Students must complete both terms of this course (parts AA and AB) within the ',\n",
       "   u'same academic year in order to receive full Elementary Hausa course credit.',\n",
       "   u'Course Notes:',\n",
       "   u'Languages in the tutorial program are offered when there is demonstrated ',\n",
       "   u'curricular or academic need on the part of the student, and when suitable ',\n",
       "   u'instruction can be arranged.  Please contact the department to learn more.',\n",
       "   u'Additional Course Attributes:',\n",
       "   u' ',\n",
       "   u' ']},\n",
       " {'name': u'Hausa     AB ',\n",
       "  'schedule': None,\n",
       "  'semester': u'2018 Spring',\n",
       "  'strings': [u'John Mugane  ',\n",
       "   u'2018 Spring (4 Credits)',\n",
       "   u'Schedule: ',\n",
       "   u'TBD',\n",
       "   u'Instructor Permissions:',\n",
       "   u'None',\n",
       "   u'Enrollment Cap:',\n",
       "   u'n/a',\n",
       "   u'A study of Hausa a most widely used native language and lingua franca in West Africa at the Elementary level (First',\n",
       "   u'year part 2). Contact hours supplemented by language digital resources. Emphasis on written expression, reading ',\n",
       "   u'comprehension, and oral fluency. Students must complete both terms of this course (parts AA and AB) within the ',\n",
       "   u'same academic year in order to receive full Elementary Hausa course credit. This course is offered only in the ',\n",
       "   u'Spring.',\n",
       "   u'Course Notes:',\n",
       "   u'Languages in the tutorial program are offered when there is demonstrated ',\n",
       "   u'curricular or academic need on the part of the student, and when suitable ',\n",
       "   u'instruction can be arranged.  Please contact the department to learn more.',\n",
       "   u'Additional Course Attributes:']},\n",
       " {'name': u'Hausa     BB ',\n",
       "  'schedule': None,\n",
       "  'semester': u'2018 Spring',\n",
       "  'strings': [u'John Mugane  ',\n",
       "   u'2018 Spring (4 Credits)',\n",
       "   u'Schedule: ',\n",
       "   u'TBD',\n",
       "   u'Instructor Permissions:',\n",
       "   u'None',\n",
       "   u'Enrollment Cap:',\n",
       "   u'n/a',\n",
       "   u'A study of Hausa a most widely used native language and lingua franca in West Africa at the Intermediate level ',\n",
       "   u'(Second year part 2). Contact hours supplemented by digital resources sessions. Emphasis on written expression, ',\n",
       "   u'reading comprehension, and oral fluency. Students must complete both terms of this course (parts BA and BB) ',\n",
       "   u'within the same academic year in order to receive full Intermediate Hausa course credit. Students taking Hausa BA ',\n",
       "   u'in the Spring must note that Hausa BB is offered only in the Spring.  ',\n",
       "   u'Course Notes:',\n",
       "   u'Languages in the tutorial program are offered when there is demonstrated ',\n",
       "   u'curricular or academic need on the part of the student, and when suitable ',\n",
       "   u'instruction can be arranged.  Please contact the department to learn more.',\n",
       "   u'Additional Course Attributes:']},\n",
       " {'name': u'Hausa  101AR ',\n",
       "  'schedule': None,\n",
       "  'semester': u'2017 Fall',\n",
       "  'strings': [u'Advanced Hausa',\n",
       "   u'John Mugane  ',\n",
       "   u'2017 Fall (4 Credits)',\n",
       "   u'Schedule: ',\n",
       "   u'TBD',\n",
       "   u'Instructor Permissions:',\n",
       "   u'None',\n",
       "   u'Enrollment Cap:',\n",
       "   u'n/a',\n",
       "   u'A study of Hausa a most widely used native language and lingua franca in West Africa at the Advanced level in the ',\n",
       "   u'Fall semester. As needed, successive advanced readings in Hausa may be taken under Hausa 101ar every Fall.',\n",
       "   u'Course Notes:',\n",
       "   u'Languages in the tutorial program are offered when there is demonstrated ',\n",
       "   u'curricular or academic need on the part of the student, and when suitable ',\n",
       "   u'instruction can be arranged.  Please contact the department to learn more.',\n",
       "   u'Recommended Prep:',\n",
       "   u'Hausa B or equivalent',\n",
       "   u'Additional Course Attributes:',\n",
       "   u' ',\n",
       "   u' ']},\n",
       " {'name': u'Hausa  101BR ',\n",
       "  'schedule': None,\n",
       "  'semester': u'2018 Spring',\n",
       "  'strings': [u'John Mugane  ',\n",
       "   u'2018 Spring (4 Credits)',\n",
       "   u'Schedule: ',\n",
       "   u'TBD',\n",
       "   u'Instructor Permissions:',\n",
       "   u'None',\n",
       "   u'Enrollment Cap:',\n",
       "   u'n/a',\n",
       "   u'A study of Hausa a most widely used native language and lingua franca in West Africa at the Advanced level in the ',\n",
       "   u'Spring semester. As needed, successive advanced readings in Hausa may be taken under Hausa 101br every ',\n",
       "   u'Spring.',\n",
       "   u'Course Notes:',\n",
       "   u'Languages in the tutorial program are offered when there is demonstrated ',\n",
       "   u'curricular or academic need on the part of the student, and when suitable ',\n",
       "   u'instruction can be arranged.  Please contact the department to learn more.',\n",
       "   u'Recommended Prep:',\n",
       "   u'Hausa 101ar or equivalent.',\n",
       "   u'Additional Course Attributes:']},\n",
       " {'name': u'Subject: African & African Amer Studies',\n",
       "  'schedule': None,\n",
       "  'strings': [u' ', u' ']},\n",
       " {'name': u'African & African Amer Studies   10 ',\n",
       "  'schedule': u'MW 1100 AM - 1159 AM',\n",
       "  'semester': u'2018 Spring',\n",
       "  'strings': [u'Henry Gates  ',\n",
       "   u'Lawrence Bobo  ',\n",
       "   u'2018 Spring (4 Credits)',\n",
       "   u'Schedule: ',\n",
       "   u'MW 1100 AM - 1159 AM',\n",
       "   u'Instructor Permissions:',\n",
       "   u'None',\n",
       "   u'Enrollment Cap:',\n",
       "   u'n/a',\n",
       "   u'An exploration of some of the key texts and issues in African American Studies from a range of disciplinary ',\n",
       "   u'perspectives. Members of the faculty deliver guest lectures in their own areas of specialization.',\n",
       "   u'Course Notes:',\n",
       "   u'Required of concentrators in the African American Studies track. Students ',\n",
       "   u'who transfer into the concentration after their sophomore year may ',\n",
       "   u'substitute another African and African American Studies course already ',\n",
       "   u'taken if they satisfy the Director of Undergraduate Studies that it establishes ',\n",
       "   u'a basic familiarity with the materials covered in African and African American',\n",
       "   u'Studies 10. This course, when taken for a letter grade, meets the General ',\n",
       "   u'Education requirement for United States in the World. This course fulfills the ',\n",
       "   u'requirement that one of the eight General Education courses also engage ',\n",
       "   u'substantially with Study of the Past.',\n",
       "   u'Additional Course Attributes:']},\n",
       " {'name': u'African & African Amer Studies   11 ',\n",
       "  'schedule': u'R 0400 PM - 0559 PM',\n",
       "  'semester': u'2017 Fall',\n",
       "  'strings': [u'(123591)',\n",
       "   u'Jacob Olupona  ',\n",
       "   u'2017 Fall (4 Credits)',\n",
       "   u'Schedule: ',\n",
       "   u'R 0400 PM - 0559 PM',\n",
       "   u'Instructor Permissions:',\n",
       "   u'None',\n",
       "   u'Enrollment Cap:',\n",
       "   u'n/a',\n",
       "   u'This course introduces students to the general outlines of African archeology, history and geography, as well as key',\n",
       "   u'concepts in the study of African health, social life , economic situation, arts, and politics. Our aim is to give students ',\n",
       "   u'a fundamental vocabulary and interdisciplinary methodology for the study of Africa. Throughout, we assume that ',\n",
       "   u'Africa is not a unique isolate but a continent bubbling with internal diversity, historical change, and cultural ',\n",
       "   u'connections beyond its shores. The course is open to all students who are interested in exploring various ',\n",
       "   u'dimensions of African life and cultures in ancient and modern periods.',\n",
       "   u'Course Notes:',\n",
       "   u'Required of concentrators in African Studies track. This course, when taken ',\n",
       "   u'for a letter grade, meets the General Education requirement for Societies of ',\n",
       "   u'the World.',\n",
       "   u'Additional Course Attributes:']}]"
      ]
     },
     "execution_count": 46,
     "metadata": {},
     "output_type": "execute_result"
    }
   ],
   "source": [
    "groups[0:10]"
   ]
  },
  {
   "cell_type": "code",
   "execution_count": 14,
   "metadata": {
    "collapsed": true
   },
   "outputs": [],
   "source": [
    "\n",
    "# dump data to file\n",
    "\n",
    "import json\n",
    "with open('courses_rough.json', 'w') as outfile:\n",
    "    json.dump(groups, outfile)"
   ]
  },
  {
   "cell_type": "code",
   "execution_count": 15,
   "metadata": {
    "collapsed": false
   },
   "outputs": [],
   "source": [
    "# TODO: extract more info"
   ]
  },
  {
   "cell_type": "code",
   "execution_count": null,
   "metadata": {
    "collapsed": true
   },
   "outputs": [],
   "source": []
  },
  {
   "cell_type": "code",
   "execution_count": 29,
   "metadata": {
    "collapsed": true
   },
   "outputs": [],
   "source": [
    "# caleb's analysis\n",
    "# turns it into numbers\n",
    "def get_time(contents):\n",
    "    matcher = re.compile(\"[MTWRF]{1,5} \\d{4} [AP]M - \\d{4} [AP]M\")\n",
    "    times = matcher.findall(contents)\n",
    "\n",
    "    submatcher = re.compile(\"([MTWRF]{1,5}) (\\d{4}) ([AP]M) - (\\d{4}) ([AP]M)\")\n",
    "\n",
    "    for time in times:\n",
    "        timeTuple = submatcher.findall(time)[0]\n",
    "        newTime = [timeTuple[0], int(timeTuple[1]), int(timeTuple[3])]\n",
    "        if timeTuple[2] == \"PM\" and timeTuple[1][0:2] != \"12\":\n",
    "            newTime[1] += 1200\n",
    "        if timeTuple[4] == \"PM\" and timeTuple[3][0:2] != \"12\":\n",
    "            newTime[2] += 1200\n",
    "        newTime[1] = 60 * (newTime[1] // 100) + (newTime[1] % 100)\n",
    "        newTime[2] = 60 * (newTime[2] // 100) + (newTime[2] % 100)\n",
    "        \n",
    "        return dict(\n",
    "            days=newTime[0],\n",
    "            start=newTime[1],\n",
    "            end=newTime[2]\n",
    "        )\n",
    "\n",
    "        return newTime\n",
    "    \n",
    "    # no times found\n",
    "    return None"
   ]
  },
  {
   "cell_type": "code",
   "execution_count": 30,
   "metadata": {
    "collapsed": false
   },
   "outputs": [
    {
     "data": {
      "text/plain": [
       "{'days': 'R', 'end': 1079, 'start': 960}"
      ]
     },
     "execution_count": 30,
     "metadata": {},
     "output_type": "execute_result"
    }
   ],
   "source": [
    "get_time(\"R 0400 PM - 0559 PM\")"
   ]
  },
  {
   "cell_type": "code",
   "execution_count": 31,
   "metadata": {
    "collapsed": false
   },
   "outputs": [
    {
     "name": "stdout",
     "output_type": "stream",
     "text": [
      "None\n"
     ]
    }
   ],
   "source": [
    "print get_time(\"TBD\")"
   ]
  },
  {
   "cell_type": "code",
   "execution_count": null,
   "metadata": {
    "collapsed": true
   },
   "outputs": [],
   "source": []
  },
  {
   "cell_type": "code",
   "execution_count": null,
   "metadata": {
    "collapsed": true
   },
   "outputs": [],
   "source": []
  }
 ],
 "metadata": {
  "anaconda-cloud": {},
  "kernelspec": {
   "display_name": "Python [default]",
   "language": "python",
   "name": "python2"
  },
  "language_info": {
   "codemirror_mode": {
    "name": "ipython",
    "version": 2
   },
   "file_extension": ".py",
   "mimetype": "text/x-python",
   "name": "python",
   "nbconvert_exporter": "python",
   "pygments_lexer": "ipython2",
   "version": "2.7.12"
  }
 },
 "nbformat": 4,
 "nbformat_minor": 2
}
