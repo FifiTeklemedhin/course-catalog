{
 "cells": [
  {
   "cell_type": "code",
   "execution_count": null,
   "metadata": {
    "collapsed": true
   },
   "outputs": [],
   "source": [
    "# OLD: to turn a date into numbers\n",
    "def get_time(contents):\n",
    "    matcher = re.compile(\"[MTWRF]{1,5} \\d{4} [AP]M - \\d{4} [AP]M\")\n",
    "    times = matcher.findall(contents)\n",
    "\n",
    "    submatcher = re.compile(\"([MTWRF]{1,5}) (\\d{4}) ([AP]M) - (\\d{4}) ([AP]M)\")\n",
    "\n",
    "    for time in times:\n",
    "        timeTuple = submatcher.findall(time)[0]\n",
    "        newTime = [timeTuple[0], int(timeTuple[1]), int(timeTuple[3])]\n",
    "        if timeTuple[2] == \"PM\" and timeTuple[1][0:2] != \"12\":\n",
    "            newTime[1] += 1200\n",
    "        if timeTuple[4] == \"PM\" and timeTuple[3][0:2] != \"12\":\n",
    "            newTime[2] += 1200\n",
    "        newTime[1] = 60 * (newTime[1] // 100) + (newTime[1] % 100)\n",
    "        newTime[2] = 60 * (newTime[2] // 100) + (newTime[2] % 100)\n",
    "        \n",
    "        return dict(\n",
    "            days=newTime[0],\n",
    "            start=newTime[1],\n",
    "            end=newTime[2]\n",
    "        )\n",
    "\n",
    "        return newTime\n",
    "    \n",
    "    # no times found\n",
    "    return None\n",
    "\n",
    "get_time(\"R 0400 PM - 0559 PM\")"
   ]
  }
 ],
 "metadata": {
  "anaconda-cloud": {},
  "kernelspec": {
   "display_name": "Python [default]",
   "language": "python",
   "name": "python2"
  },
  "language_info": {
   "codemirror_mode": {
    "name": "ipython",
    "version": 2
   },
   "file_extension": ".py",
   "mimetype": "text/x-python",
   "name": "python",
   "nbconvert_exporter": "python",
   "pygments_lexer": "ipython2",
   "version": "2.7.12"
  }
 },
 "nbformat": 4,
 "nbformat_minor": 2
}
