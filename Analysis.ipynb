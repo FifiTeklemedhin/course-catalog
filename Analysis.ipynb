{
 "cells": [
  {
   "cell_type": "code",
   "execution_count": 3,
   "metadata": {
    "collapsed": false
   },
   "outputs": [],
   "source": [
    "from bs4 import BeautifulSoup"
   ]
  },
  {
   "cell_type": "code",
   "execution_count": 4,
   "metadata": {
    "collapsed": false
   },
   "outputs": [],
   "source": [
    "raw_content = None\n",
    "\n",
    "with open('fas_crse_cat.html', 'r') as f:\n",
    "    raw_content = f.read()\n",
    "    \n",
    "soup = BeautifulSoup(raw_content, 'html.parser')"
   ]
  },
  {
   "cell_type": "code",
   "execution_count": 5,
   "metadata": {
    "collapsed": false,
    "scrolled": true
   },
   "outputs": [],
   "source": [
    "# all content will be in div.t\n",
    "# so extract this\n",
    "elts = soup.find_all('div', class_='t')"
   ]
  },
  {
   "cell_type": "code",
   "execution_count": 6,
   "metadata": {
    "collapsed": false
   },
   "outputs": [
    {
     "data": {
      "text/plain": [
       "<module 'parser' from 'parser.pyc'>"
      ]
     },
     "execution_count": 6,
     "metadata": {},
     "output_type": "execute_result"
    }
   ],
   "source": [
    "import course\n",
    "reload(course)\n",
    "import parser\n",
    "reload(parser)"
   ]
  },
  {
   "cell_type": "code",
   "execution_count": 7,
   "metadata": {
    "collapsed": false,
    "scrolled": true
   },
   "outputs": [],
   "source": [
    "import re\n",
    "\n",
    "# the .fs2 will be the title\n",
    "# following .fs3 will be descriptive strings\n",
    "\n",
    "courses = []\n",
    "current_course = None\n",
    "\n",
    "def elt_has_classes(elt, class_list):\n",
    "    \"\"\"\n",
    "    Returns true if the given HTML element has the given\n",
    "    classes.\n",
    "    \n",
    "    Usage: elt_has_classes(my_element, ['btn','btn-primary])\n",
    "    \"\"\"\n",
    "    return set(class_list).issubset(set(elt['class']))\n",
    "\n",
    "for elt in elts:    \n",
    "    \n",
    "    # first, ensure there's something actually here\n",
    "    # FIXME could be bugs here from page breaks\n",
    "    elt_text = None\n",
    "    if elt.text is None or elt.text.strip() == \"\":\n",
    "        continue\n",
    "    else:\n",
    "        elt_text = elt.text.strip()\n",
    "    \n",
    "    if elt_has_classes(elt, ['x5','fs2']):\n",
    "        # .x5.fs2 marks course numbers (e.g. COMPSCI 50)\n",
    "        # and begins the start of a section for the course\n",
    "        \n",
    "        # start a new course\n",
    "        current_course = course.Course()\n",
    "        courses.append(current_course)\n",
    "        \n",
    "        current_course.set_course_number(elt_text)\n",
    "    elif elt_has_classes(elt, ['x5','hc','ff1','fs3']):\n",
    "        # this is course name (e.g. Introduction to Computer Science)\n",
    "        # actually, it contains [course name, course id]\n",
    "        # course id might not be in there, but don't worry about that for now\n",
    "        \n",
    "        # ASIDE:\n",
    "        # one problem is that sometimes the course name\n",
    "        # is written in a .x5.h6.ff1.fs3 (note h6 not hc) (these are classes, btw)\n",
    "        # and we can't just search for those b/c many other types of data\n",
    "        # use those same classes. so we'd have to search for those classes\n",
    "        # and THEN apply some kind of regex or other conditional to make sure we're extracting\n",
    "        # a course title and not anything else. basically it's messy and a TODO.\n",
    "        \n",
    "        course_name_list = list(elt)\n",
    "        \n",
    "        # if it doesn't have exactly 2 elements, it's malformed... skip!\n",
    "        if len(course_name_list) != 2:\n",
    "            continue\n",
    "    \n",
    "        # now unpack it\n",
    "        [course_name, course_id_container] = list(elt)\n",
    "        \n",
    "        # write the name\n",
    "        current_course.name = course_name.strip()\n",
    "        \n",
    "        # now the id\n",
    "        current_course.set_id(course_id_container.text)\n",
    "\n",
    "    elif elt_has_classes(elt, ['h10','ff1','fs5']):\n",
    "        # this is an alternative way for course ids to be placed\n",
    "        # now, this includes BAD text like `FAS: Meets Foreign Lang Req Hausa`\n",
    "        # as well as legit things which are like \n",
    "        # `(123591)`\n",
    "        matcher = re.compile(\"\\(\\d+\\)\")\n",
    "        results = matcher.findall(elt.text.strip())\n",
    "        if len(results) > 0:\n",
    "            # then we have a legit id number!!!!\n",
    "            # remove parens\n",
    "            # TODO: factor out to Course class\n",
    "            current_course.id = elt.text.strip()[1:-1]\n",
    "    elif elt_has_classes(elt, ['x5','ff3']):\n",
    "        # this is an instructor name!\n",
    "        current_course.instructors.append(elt_text)\n",
    "    elif elt is not None:\n",
    "        # these are descriptive strings\n",
    "\n",
    "        # error checking\n",
    "        if current_course is None:\n",
    "            continue\n",
    "            \n",
    "        # remove page footers\n",
    "        BANNED_STRINGS = (\n",
    "            'HARVARD UNIVERSITY',\n",
    "            '9/4/2017 0:39 AM',\n",
    "            '9/24/2017 0:39 AM',\n",
    "            'HARVARD UNIVERSITY 9/24/2017 0:39 AM'\n",
    "        )\n",
    "        if elt_text in BANNED_STRINGS:\n",
    "            continue\n",
    "            \n",
    "        current_course.strings.append(elt_text)"
   ]
  },
  {
   "cell_type": "code",
   "execution_count": 8,
   "metadata": {
    "collapsed": false
   },
   "outputs": [],
   "source": [
    "# Now try to pull meaningful info out of the strings\n",
    "for course in courses:\n",
    "    # raw data is there, now process it\n",
    "    course.process_strings()"
   ]
  },
  {
   "cell_type": "code",
   "execution_count": 9,
   "metadata": {
    "collapsed": false
   },
   "outputs": [
    {
     "data": {
      "text/plain": [
       "{'name': u'Programming Languages', 'schedule': u'TR 1000 AM - 1129 AM', 'instructors': [u'Stephen Chong'], 'number': u'Computer Science 152', 'id': u'119629', 'semester': u'2018 Spring', 'actual_number': u'152', 'level': 'Undergraduate', 'strings': [u'2018 Spring (4 Credits)', u'Schedule:', u'TR 1000 AM - 1129 AM', u'Instructor Permissions:', u'None', u'Enrollment Cap:', u'n/a', u'Comprehensive introduction to the principal features and overall design of both traditional and modern programming', u'languages, including syntax, formal semantics, abstraction mechanisms, modularity, type systems, naming,', u'polymorphism, closures, continuations, and concurrency. Provides the intellectual tools needed to design, evaluate,', u'choose, and use programming languages.', u'Recommended Prep:', u'Computer Science 51; Computer Science 121 is recommended. Students', u'must have good programming skills, be very comfortable with recursion,', u'proofs, basic mathematical ideas and notations, including sets, relations,', u'functions, and induction.', u'Additional Course Attributes:', u'Attribute Value(s)']}"
      ]
     },
     "execution_count": 9,
     "metadata": {},
     "output_type": "execute_result"
    }
   ],
   "source": [
    "courses[2000]"
   ]
  },
  {
   "cell_type": "code",
   "execution_count": 10,
   "metadata": {
    "collapsed": true
   },
   "outputs": [],
   "source": [
    "# dump\n",
    "parser.dump_csv(courses)"
   ]
  },
  {
   "cell_type": "code",
   "execution_count": null,
   "metadata": {
    "collapsed": true
   },
   "outputs": [],
   "source": []
  },
  {
   "cell_type": "code",
   "execution_count": 31,
   "metadata": {
    "collapsed": false
   },
   "outputs": [
    {
     "name": "stdout",
     "output_type": "stream",
     "text": [
      "(1100, 1159)\n",
      "['Monday', 'Wednesday']\n",
      "(1000, 1059)\n",
      "['Tuesday', 'Thursday']\n",
      "(1400, 1559)\n",
      "['Wednesday']\n",
      "(1130, 1259)\n",
      "['Tuesday', 'Thursday']\n"
     ]
    }
   ],
   "source": [
    "import re\n",
    "\n",
    "schedules = [\n",
    "    \"MW 1100 AM - 1159 AM\",\n",
    "    \"TR 1000 AM - 1059 AM\",\n",
    "    \"W 0200 PM - 0359 PM\",\n",
    "    \"TR 1130 AM - 1259 PM\",\n",
    "    \"TBD\"\n",
    "]\n",
    "\n",
    "schedule_matcher = re.compile(\"([MTWRF]{1,5}) (\\d{4}) ([AP]M) - (\\d{4}) ([AP]M)\")\n",
    "\n",
    "for schedule in schedules:\n",
    "    matches = schedule_matcher.findall(schedule)\n",
    "    if len(matches) == 1:\n",
    "        # we found something!\n",
    "        # this contains, in order:\n",
    "        # 0. Days\n",
    "        # 1. Start time\n",
    "        # 2. Start AM or PM\n",
    "        # 3. End time\n",
    "        # 4. End AM or PM\n",
    "        # e.g. ('MW', '1100', 'AM', '1159', 'AM')\n",
    "        schedule_chunks = matches[0]\n",
    "        \n",
    "        # convert start and end time to military time\n",
    "        # e.g. 0130 PM => 1330\n",
    "        start_time = time_to_military(schedule_chunks[1], schedule_chunks[2])\n",
    "        end_time = time_to_military(schedule_chunks[3], schedule_chunks[4])\n",
    "        \n",
    "        print (start_time, end_time)\n",
    "        \n",
    "        # convert the days into better-readable ones\n",
    "        # \"MW\" => [\"Monday\", \"Wednesday]\n",
    "        # e.g. \"MW\"\n",
    "        days_abbreviation_string = schedule_chunks[0]\n",
    "        # e.g. [\"M\",\"W\"]\n",
    "        days_abbreviation_list = list(days_abbreviation_string)\n",
    "        \n",
    "        # convert \"M\" to \"Monday\", etc\n",
    "        abbreviation_dict = {\n",
    "            \"M\": \"Monday\",\n",
    "            \"T\": \"Tuesday\",\n",
    "            \"W\": \"Wednesday\",\n",
    "            \"R\": \"Thursday\",\n",
    "            \"F\": \"Friday\"\n",
    "        }\n",
    "        days_full_list = [abbreviation_dict[d] for d in days_abbreviation_list]\n",
    "        print days_full_list\n",
    "        \n",
    "        \n",
    "def time_to_military(time_string, meridian_string):\n",
    "    \"\"\"\n",
    "    Usage: `time_to_military('0130','PM') => 1330\n",
    "    \"\"\"\n",
    "    \n",
    "    cleaned_time = int(time_string)\n",
    "    \n",
    "    # first off, 12:xx should actually be 0:xx\n",
    "    if int(cleaned_time / 100) == 12:\n",
    "        cleaned_time -= 1200\n",
    "    \n",
    "    # now add 1200 to PMs\n",
    "    if meridian_string == \"PM\":\n",
    "        # e.g. 1:30pm == 1330 hours\n",
    "        cleaned_time += 1200\n",
    "        \n",
    "    return cleaned_time\n"
   ]
  }
 ],
 "metadata": {
  "anaconda-cloud": {},
  "kernelspec": {
   "display_name": "Python [default]",
   "language": "python",
   "name": "python2"
  },
  "language_info": {
   "codemirror_mode": {
    "name": "ipython",
    "version": 2
   },
   "file_extension": ".py",
   "mimetype": "text/x-python",
   "name": "python",
   "nbconvert_exporter": "python",
   "pygments_lexer": "ipython2",
   "version": "2.7.12"
  }
 },
 "nbformat": 4,
 "nbformat_minor": 2
}
