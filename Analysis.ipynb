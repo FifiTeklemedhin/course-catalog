{
 "cells": [
  {
   "cell_type": "code",
   "execution_count": 3,
   "metadata": {},
   "outputs": [],
   "source": [
    "from bs4 import BeautifulSoup"
   ]
  },
  {
   "cell_type": "code",
   "execution_count": 4,
   "metadata": {},
   "outputs": [],
   "source": [
    "raw_content = None\n",
    "\n",
    "with open('fas_crse_cat.html', 'r') as f:\n",
    "    raw_content = f.read()\n",
    "    \n",
    "soup = BeautifulSoup(raw_content, 'html.parser')"
   ]
  },
  {
   "cell_type": "code",
   "execution_count": 5,
   "metadata": {
    "scrolled": true
   },
   "outputs": [],
   "source": [
    "# all content will be in div.t\n",
    "# so extract this\n",
    "elts = soup.find_all('div', class_='t')"
   ]
  },
  {
   "cell_type": "code",
   "execution_count": 6,
   "metadata": {},
   "outputs": [
    {
     "data": {
      "text/plain": [
       "<module 'parser' from '/Users/alexgiglio/Documents/HODP Local/course-catalog/parser.py'>"
      ]
     },
     "execution_count": 6,
     "metadata": {},
     "output_type": "execute_result"
    }
   ],
   "source": [
    "# reload() doesn't always work without importing it first\n",
    "from importlib import reload\n",
    "import course\n",
    "reload(course)\n",
    "import parser\n",
    "reload(parser)"
   ]
  },
  {
   "cell_type": "code",
   "execution_count": 7,
   "metadata": {
    "scrolled": true
   },
   "outputs": [],
   "source": [
    "import re\n",
    "\n",
    "# the .fs2 will be the title\n",
    "# following .fs3 will be descriptive strings\n",
    "\n",
    "courses = []\n",
    "current_course = None\n",
    "\n",
    "def elt_has_classes(elt, class_list):\n",
    "    \"\"\"\n",
    "    Returns true if the given HTML element has the given\n",
    "    classes.\n",
    "    \n",
    "    Usage: elt_has_classes(my_element, ['btn','btn-primary])\n",
    "    \"\"\"\n",
    "    return set(class_list).issubset(set(elt['class']))\n",
    "\n",
    "for elt in elts:    \n",
    "    \n",
    "    # first, ensure there's something actually here\n",
    "    # FIXME could be bugs here from page breaks\n",
    "    elt_text = None\n",
    "    if elt.text is None or elt.text.strip() == \"\":\n",
    "        continue\n",
    "    else:\n",
    "        elt_text = elt.text.strip()\n",
    "    \n",
    "    if elt_has_classes(elt, ['x5','fs2']):\n",
    "        # .x5.fs2 marks course numbers (e.g. COMPSCI 50)\n",
    "        # and begins the start of a section for the course\n",
    "        \n",
    "        # start a new course\n",
    "        current_course = course.Course()\n",
    "        courses.append(current_course)\n",
    "        \n",
    "        current_course.set_course_number(elt_text)\n",
    "    elif elt_has_classes(elt, ['x5','hc','ff1','fs3']):\n",
    "        # this is course name (e.g. Introduction to Computer Science)\n",
    "        # actually, it contains [course name, course id]\n",
    "        # course id might not be in there, but don't worry about that for now\n",
    "        \n",
    "        # ASIDE:\n",
    "        # one problem is that sometimes the course name\n",
    "        # is written in a .x5.h6.ff1.fs3 (note h6 not hc) (these are classes, btw)\n",
    "        # and we can't just search for those b/c many other types of data\n",
    "        # use those same classes. so we'd have to search for those classes\n",
    "        # and THEN apply some kind of regex or other conditional to make sure we're extracting\n",
    "        # a course title and not anything else. basically it's messy and a TODO.\n",
    "        \n",
    "        course_name_list = list(elt)\n",
    "        \n",
    "        # if it doesn't have exactly 2 elements, it's malformed... skip!\n",
    "        if len(course_name_list) != 2:\n",
    "            continue\n",
    "    \n",
    "        # now unpack it\n",
    "        [course_name, course_id_container] = list(elt)\n",
    "        \n",
    "        # write the name\n",
    "        current_course.name = course_name.strip()\n",
    "        \n",
    "        # now the id\n",
    "        current_course.set_id(course_id_container.text)\n",
    "\n",
    "    elif elt_has_classes(elt, ['h10','ff1','fs5']):\n",
    "        # this is an alternative way for course ids to be placed\n",
    "        # now, this includes BAD text like `FAS: Meets Foreign Lang Req Hausa`\n",
    "        # as well as legit things which are like \n",
    "        # `(123591)`\n",
    "        matcher = re.compile(\"\\(\\d+\\)\")\n",
    "        results = matcher.findall(elt.text.strip())\n",
    "        if len(results) > 0:\n",
    "            # then we have a legit id number!!!!\n",
    "            # remove parens\n",
    "            # TODO: factor out to Course class\n",
    "            current_course.id = elt.text.strip()[1:-1]\n",
    "    elif elt_has_classes(elt, ['x5','ff3']):\n",
    "        # this is an instructor name!\n",
    "        current_course.instructors.append(elt_text)\n",
    "    elif elt is not None:\n",
    "        # these are descriptive strings\n",
    "\n",
    "        # error checking\n",
    "        if current_course is None:\n",
    "            continue\n",
    "            \n",
    "        # remove page footers\n",
    "        BANNED_STRINGS = (\n",
    "            'HARVARD UNIVERSITY',\n",
    "            '9/4/2017 0:39 AM',\n",
    "            '9/24/2017 0:39 AM',\n",
    "            'HARVARD UNIVERSITY 9/24/2017 0:39 AM'\n",
    "        )\n",
    "        if elt_text in BANNED_STRINGS:\n",
    "            continue\n",
    "            \n",
    "        current_course.strings.append(elt_text)"
   ]
  },
  {
   "cell_type": "code",
   "execution_count": 8,
   "metadata": {},
   "outputs": [
    {
     "data": {
      "text/plain": [
       "{'number': 'Computer Science 152', 'name': 'Programming Languages', 'instructors': ['Stephen Chong'], 'semester': None, 'schedule': None, 'strings': ['2018 Spring (4 Credits)', 'Schedule:', 'TR 1000 AM - 1129 AM', 'Instructor Permissions:', 'None', 'Enrollment Cap:', 'n/a', 'Comprehensive introduction to the principal features and overall design of both traditional and modern programming', 'languages, including syntax, formal semantics, abstraction mechanisms, modularity, type systems, naming,', 'polymorphism, closures, continuations, and concurrency. Provides the intellectual tools needed to design, evaluate,', 'choose, and use programming languages.', 'Recommended Prep:', 'Computer Science 51; Computer Science 121 is recommended. Students', 'must have good programming skills, be very comfortable with recursion,', 'proofs, basic mathematical ideas and notations, including sets, relations,', 'functions, and induction.', 'Additional Course Attributes:', 'Attribute Value(s)'], 'id': '119629', 'actual_number': '152', 'level': 'Undergraduate'}"
      ]
     },
     "execution_count": 8,
     "metadata": {},
     "output_type": "execute_result"
    }
   ],
   "source": [
    "# Before processing\n",
    "courses[2000]"
   ]
  },
  {
   "cell_type": "code",
   "execution_count": 18,
   "metadata": {},
   "outputs": [],
   "source": [
    "# Now try to pull meaningful info out of the strings\n",
    "for course in courses:\n",
    "    # raw data is there, now process it\n",
    "    course.process_strings()"
   ]
  },
  {
   "cell_type": "code",
   "execution_count": 20,
   "metadata": {},
   "outputs": [
    {
     "data": {
      "text/plain": [
       "{'number': 'Computer Science 152', 'name': 'Programming Languages', 'instructors': ['Stephen Chong'], 'semester': '2018 Spring', 'schedule': 'TR 1000 AM - 1129 AM', 'strings': ['2018 Spring (4 Credits)', 'Schedule:', 'TR 1000 AM - 1129 AM', 'Instructor Permissions:', 'None', 'Enrollment Cap:', 'n/a', 'Comprehensive introduction to the principal features and overall design of both traditional and modern programming', 'languages, including syntax, formal semantics, abstraction mechanisms, modularity, type systems, naming,', 'polymorphism, closures, continuations, and concurrency. Provides the intellectual tools needed to design, evaluate,', 'choose, and use programming languages.', 'Recommended Prep:', 'Computer Science 51; Computer Science 121 is recommended. Students', 'must have good programming skills, be very comfortable with recursion,', 'proofs, basic mathematical ideas and notations, including sets, relations,', 'functions, and induction.', 'Additional Course Attributes:', 'Attribute Value(s)'], 'id': '119629', 'actual_number': '152', 'level': 'Undergraduate', 'start_time': 600, 'end_time': 689, 'days': ['Tuesday', 'Thursday']}"
      ]
     },
     "execution_count": 20,
     "metadata": {},
     "output_type": "execute_result"
    }
   ],
   "source": [
    "# After processing\n",
    "courses[2000]"
   ]
  },
  {
   "cell_type": "code",
   "execution_count": 8,
   "metadata": {
    "collapsed": true
   },
   "outputs": [],
   "source": [
    "# dump\n",
    "parser.dump_csv(courses)"
   ]
  },
  {
   "cell_type": "code",
   "execution_count": 21,
   "metadata": {},
   "outputs": [],
   "source": [
    "# Dump to JSON (Good for internet stuff!)\n",
    "parser.dump_json(courses)"
   ]
  },
  {
   "cell_type": "code",
   "execution_count": 9,
   "metadata": {},
   "outputs": [],
   "source": []
  },
  {
   "cell_type": "code",
   "execution_count": null,
   "metadata": {
    "collapsed": true
   },
   "outputs": [],
   "source": []
  }
 ],
 "metadata": {
  "anaconda-cloud": {},
  "kernelspec": {
   "display_name": "Python 3",
   "language": "python",
   "name": "python3"
  },
  "language_info": {
   "codemirror_mode": {
    "name": "ipython",
    "version": 3
   },
   "file_extension": ".py",
   "mimetype": "text/x-python",
   "name": "python",
   "nbconvert_exporter": "python",
   "pygments_lexer": "ipython3",
   "version": "3.6.2"
  }
 },
 "nbformat": 4,
 "nbformat_minor": 2
}
