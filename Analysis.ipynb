{
 "cells": [
  {
   "cell_type": "code",
   "execution_count": 1,
   "metadata": {
    "collapsed": false
   },
   "outputs": [],
   "source": [
    "from bs4 import BeautifulSoup"
   ]
  },
  {
   "cell_type": "code",
   "execution_count": 2,
   "metadata": {
    "collapsed": false
   },
   "outputs": [],
   "source": [
    "raw_content = None\n",
    "\n",
    "with open('fas_crse_cat.html', 'r') as f:\n",
    "    raw_content = f.read()\n",
    "    \n",
    "soup = BeautifulSoup(raw_content, 'html.parser')"
   ]
  },
  {
   "cell_type": "code",
   "execution_count": 3,
   "metadata": {
    "collapsed": false,
    "scrolled": true
   },
   "outputs": [],
   "source": [
    "# all content will be in div.t\n",
    "# so extract this\n",
    "elts = soup.find_all('div', class_='t')"
   ]
  },
  {
   "cell_type": "code",
   "execution_count": 32,
   "metadata": {
    "collapsed": true
   },
   "outputs": [],
   "source": [
    "class Course(object):\n",
    "    \n",
    "    # static\n",
    "    # this is the list of fields that are exported to CSV\n",
    "    # see to_dict_for_csv()\n",
    "    CSV_FIELDS = [\n",
    "        'number',\n",
    "        'semester',\n",
    "        'name',\n",
    "        'instructors',\n",
    "        'schedule',\n",
    "        'id',\n",
    "    ]\n",
    "    \n",
    "    def __init__(self):\n",
    "        self.number = None\n",
    "        self.name = None\n",
    "        self.instructors = []\n",
    "        self.semester = None\n",
    "        self.schedule = None\n",
    "        self.strings = []\n",
    "        self.id = None\n",
    "        \n",
    "    def __str__(self):\n",
    "        return \"{}\".format(self.name)\n",
    "        \n",
    "    def __repr__(self):\n",
    "        # for nicer ipython debugging\n",
    "        return str(self.__dict__)\n",
    "    \n",
    "    def to_dict(self):\n",
    "        # ALIAS\n",
    "        return self.__dict__\n",
    "#         return dict(\n",
    "#             name=self.name,\n",
    "#             instructors=self.instructors,\n",
    "#             semester=self.semester,\n",
    "#             schedule=self.schedule,\n",
    "#             strings=self.strings\n",
    "#         )\n",
    "\n",
    "    def to_dict_for_csv(self):\n",
    "        # returns a nicer-formatted dict ready for insertion into a csv\n",
    "        # also everything needs to be converted to ascii\n",
    "        \n",
    "        def to_ascii(unicode_str):\n",
    "            if unicode_str is None:\n",
    "                return None\n",
    "            return unicode_str.encode(\"ascii\",\"replace\")\n",
    "        \n",
    "        return dict(\n",
    "            id=self.id,\n",
    "            name=to_ascii(self.name),\n",
    "            number=self.number,\n",
    "            instructors=to_ascii((\" & \".join(self.instructors))),\n",
    "            semester=self.semester,\n",
    "            schedule=self.schedule\n",
    "        )\n",
    "    \n",
    "    \n"
   ]
  },
  {
   "cell_type": "code",
   "execution_count": 43,
   "metadata": {
    "collapsed": false,
    "scrolled": true
   },
   "outputs": [],
   "source": [
    "import re\n",
    "\n",
    "# the .fs2 will be the title\n",
    "# following .fs3 will be descriptive strings\n",
    "\n",
    "courses = []\n",
    "current_course = None\n",
    "\n",
    "for elt in elts:    \n",
    "    \n",
    "    # first, ensure there's something actually here\n",
    "    # FIXME could be bugs here from page breaks\n",
    "    elt_text = None\n",
    "    if elt.text is None or elt.text.strip() == \"\":\n",
    "        continue\n",
    "    else:\n",
    "        elt_text = elt.text.strip()\n",
    "    \n",
    "    if set(['x5','fs2']).issubset(set(elt['class'])):\n",
    "        # .x5.fs2 marks course numbers (e.g. COMPSCI 50)\n",
    "        # and begins the start of a section for the course\n",
    "        \n",
    "        # start a new course\n",
    "        current_course = Course()\n",
    "        courses.append(current_course)\n",
    "        \n",
    "        current_course.number = elt_text\n",
    "    elif set(['x5','hc','ff1','fs3']).issubset(set(elt['class'])):\n",
    "        # this is course name (e.g. Introduction to Computer Science)\n",
    "        # actually, it contains [course name, course id]\n",
    "        # course id might not be in there, but don't worry about that for now\n",
    "        course_name_list = list(elt)\n",
    "        \n",
    "        # if it doesn't have exactly 2 elements, it's malformed... skip!\n",
    "        if len(course_name_list) != 2:\n",
    "            continue\n",
    "    \n",
    "        # now unpack it\n",
    "        [course_name, course_id_container] = list(elt)\n",
    "        \n",
    "        # write the name\n",
    "        current_course.name = course_name.strip()\n",
    "        \n",
    "        # now the id\n",
    "        # the container holds the id... but the id is also\n",
    "        # within parentheses!\n",
    "        # first trim whitespace...\n",
    "        course_id = course_id_container.text.strip()\n",
    "        \n",
    "        if len(course_id) > 0:\n",
    "            # as long as the course id isn't empty\n",
    "            # (sometimes it is)\n",
    "\n",
    "            # then remove parentheses\n",
    "            course_id_without_parens = course_id[1:-1]\n",
    "            \n",
    "            current_course.id = course_id_without_parens\n",
    "\n",
    "    elif set(['h10','ff1','fs5']).issubset(set(elt['class'])):\n",
    "        # this is an alternative way for course ids to be placed\n",
    "        # now, this includes BAD text like `FAS: Meets Foreign Lang Req Hausa`\n",
    "        # as well as legit things which are like \n",
    "        # `(123591)`\n",
    "        matcher = re.compile(\"\\(\\d+\\)\")\n",
    "        results = matcher.findall(elt.text.strip())\n",
    "        if len(results) > 0:\n",
    "            # then we have a legit id number!!!!\n",
    "            # remove parens\n",
    "            # TODO: factor out to Course class\n",
    "            current_course.id = elt.text.strip()[1:-1]\n",
    "    elif set(['x5','ff3']).issubset(set(elt['class'])):\n",
    "        # this is an instructor name!\n",
    "        current_course.instructors.append(elt_text)\n",
    "    elif elt is not None:\n",
    "        # these are descriptive strings\n",
    "\n",
    "        # error checking\n",
    "        if current_course is None:\n",
    "            continue\n",
    "            \n",
    "        # remove page footers\n",
    "        BANNED_STRINGS = (\n",
    "            'HARVARD UNIVERSITY',\n",
    "            '9/4/2017 0:39 AM',\n",
    "            '9/24/2017 0:39 AM',\n",
    "            'HARVARD UNIVERSITY 9/24/2017 0:39 AM'\n",
    "        )\n",
    "        if elt_text in BANNED_STRINGS:\n",
    "            continue\n",
    "            \n",
    "        current_course.strings.append(elt_text)"
   ]
  },
  {
   "cell_type": "code",
   "execution_count": 44,
   "metadata": {
    "collapsed": false
   },
   "outputs": [],
   "source": [
    "import re \n",
    "\n",
    "# Now try to pull meaningful info out of the strings\n",
    "for course in courses:\n",
    "    # try to extract a course schedule\n",
    "    times = []\n",
    "    for string in course.strings:\n",
    "        matcher = re.compile(\"[MTWRF]{1,5} \\d{4} [AP]M - \\d{4} [AP]M\")\n",
    "        times.append(matcher.findall(string))\n",
    "        \n",
    "    flattened_times = sum(times,[])\n",
    "    \n",
    "    # this array will have max 1 element\n",
    "    if len(flattened_times) > 0:\n",
    "        course.schedule = flattened_times[0]\n",
    "    else:\n",
    "        course.schedule = None\n",
    "    \n",
    "    \n",
    "    # try to extract a semester\n",
    "    for string in course.strings:\n",
    "        semester = re.search(\"20\\d\\d ((Fall)|(Spring))\", string)\n",
    "        if semester is not None:\n",
    "            # just find the first one then quit\n",
    "            course.semester = semester.group()\n",
    "            break\n",
    "        "
   ]
  },
  {
   "cell_type": "code",
   "execution_count": 45,
   "metadata": {
    "collapsed": false,
    "scrolled": true
   },
   "outputs": [
    {
     "data": {
      "text/plain": [
       "{'name': u'Sophomore Tutorial: The Black Atlantic', 'schedule': u'R 0500 PM - 0659 PM', 'instructors': [u'Giovanna Micconi'], 'number': u'African & African Amer Studies   97', 'id': u'123590', 'semester': u'2018 Spring', 'strings': [u'2018 Spring (4 Credits)', u'Schedule:', u'R 0500 PM - 0659 PM', u'Instructor Permissions:', u'None', u'Enrollment Cap:', u'n/a', u'This course uses the concept of the \"Black Atlantic\" as a way to explore key theoretical issues in African, African', u'American, and Caribbean Studies. Interdisciplinary readings will examine the making and the construction of race', u'through different perspectives and experiences. The course is structured in three parts. Part I deals with Critical', u'Race Theory and the \"Black Atlantic,\" seen as a conceptual space as well as a physical space of history formation.', u'Part II looks at Colonial and Postcolonial discourses on race and identity formation in diasporic and colonial', u'settings. Part III explores \"Contemporary Diasporas,\" focusing on contemporary immigration from Africa to the', u'United States as well as examples of return narratives to Africa and to the Caribbean.  Assignments will include', u'written work and archival research.', u'Course Notes:', u'Required for concentrators in African and African American Studies. Open to', u'all undergraduates.', u'Additional Course Attributes:', u'Attribute Value(s)']}"
      ]
     },
     "execution_count": 45,
     "metadata": {},
     "output_type": "execute_result"
    }
   ],
   "source": [
    "courses[10]"
   ]
  },
  {
   "cell_type": "code",
   "execution_count": 46,
   "metadata": {
    "collapsed": true
   },
   "outputs": [],
   "source": [
    "# dump data to file\n",
    "\n",
    "# convert courses to dicts\n",
    "course_dicts = [c.to_dict() for c in courses]\n",
    "\n",
    "import json\n",
    "with open('course_catalog_dump.json', 'w') as outfile:\n",
    "    json.dump(course_dicts, outfile)"
   ]
  },
  {
   "cell_type": "code",
   "execution_count": 47,
   "metadata": {
    "collapsed": false
   },
   "outputs": [],
   "source": [
    "# write a csv\n",
    "import csv\n",
    "\n",
    "test_courses = courses[0:50]\n",
    "\n",
    "with open('course_catalog_dump.csv', 'w') as csvfile:\n",
    "    fieldnames = Course.CSV_FIELDS\n",
    "    writer = csv.DictWriter(csvfile, fieldnames=fieldnames)\n",
    "\n",
    "    writer.writeheader()\n",
    "    \n",
    "    for course in courses:\n",
    "        writer.writerow(course.to_dict_for_csv())"
   ]
  },
  {
   "cell_type": "code",
   "execution_count": null,
   "metadata": {
    "collapsed": true
   },
   "outputs": [],
   "source": []
  },
  {
   "cell_type": "code",
   "execution_count": 48,
   "metadata": {
    "collapsed": false
   },
   "outputs": [
    {
     "data": {
      "text/plain": [
       "{'name': u'Elementary Hausa', 'schedule': None, 'instructors': [u'John Mugane'], 'number': u'Hausa     AA', 'id': u'126307', 'semester': u'2017 Fall', 'strings': [u'2017 Fall (4 Credits)', u'Schedule:', u'TBD', u'Instructor Permissions:', u'None', u'Enrollment Cap:', u'n/a', u'A study of Hausa a most widely used native language and lingua franca in West Africa at the Elementary level (First', u'year part 1). Contact hours supplemented by digital resources. Emphasis on written expression, reading', u'comprehension, and oral fluency. Students must complete both terms of this course (parts AA and AB) within the', u'same academic year in order to receive full Elementary Hausa course credit.', u'Course Notes:', u'Languages in the tutorial program are offered when there is demonstrated', u'curricular or academic need on the part of the student, and when suitable', u'instruction can be arranged.  Please contact the department to learn more.', u'Additional Course Attributes:', u'Attribute Value(s)']}"
      ]
     },
     "execution_count": 48,
     "metadata": {},
     "output_type": "execute_result"
    }
   ],
   "source": [
    "courses[0]"
   ]
  },
  {
   "cell_type": "code",
   "execution_count": null,
   "metadata": {
    "collapsed": true
   },
   "outputs": [],
   "source": []
  },
  {
   "cell_type": "code",
   "execution_count": null,
   "metadata": {
    "collapsed": true
   },
   "outputs": [],
   "source": []
  },
  {
   "cell_type": "code",
   "execution_count": null,
   "metadata": {
    "collapsed": true
   },
   "outputs": [],
   "source": []
  },
  {
   "cell_type": "code",
   "execution_count": null,
   "metadata": {
    "collapsed": true
   },
   "outputs": [],
   "source": []
  },
  {
   "cell_type": "code",
   "execution_count": null,
   "metadata": {
    "collapsed": true
   },
   "outputs": [],
   "source": []
  },
  {
   "cell_type": "code",
   "execution_count": null,
   "metadata": {
    "collapsed": true
   },
   "outputs": [],
   "source": []
  },
  {
   "cell_type": "code",
   "execution_count": null,
   "metadata": {
    "collapsed": true
   },
   "outputs": [],
   "source": []
  },
  {
   "cell_type": "code",
   "execution_count": null,
   "metadata": {
    "collapsed": true
   },
   "outputs": [],
   "source": []
  }
 ],
 "metadata": {
  "anaconda-cloud": {},
  "kernelspec": {
   "display_name": "Python [default]",
   "language": "python",
   "name": "python2"
  },
  "language_info": {
   "codemirror_mode": {
    "name": "ipython",
    "version": 2
   },
   "file_extension": ".py",
   "mimetype": "text/x-python",
   "name": "python",
   "nbconvert_exporter": "python",
   "pygments_lexer": "ipython2",
   "version": "2.7.12"
  }
 },
 "nbformat": 4,
 "nbformat_minor": 2
}
