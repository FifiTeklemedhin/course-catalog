{
 "cells": [
  {
   "cell_type": "code",
   "execution_count": 14,
   "metadata": {
    "collapsed": false
   },
   "outputs": [],
   "source": [
    "from bs4 import BeautifulSoup"
   ]
  },
  {
   "cell_type": "code",
   "execution_count": 15,
   "metadata": {
    "collapsed": false
   },
   "outputs": [],
   "source": [
    "raw_content = None\n",
    "\n",
    "with open('fas_crse_cat.html', 'r') as f:\n",
    "    raw_content = f.read()\n",
    "    \n",
    "soup = BeautifulSoup(raw_content, 'html.parser')"
   ]
  },
  {
   "cell_type": "code",
   "execution_count": 16,
   "metadata": {
    "collapsed": false,
    "scrolled": true
   },
   "outputs": [],
   "source": [
    "# all content will be in div.t\n",
    "# so extract this\n",
    "elts = soup.find_all('div', class_='t')"
   ]
  },
  {
   "cell_type": "code",
   "execution_count": null,
   "metadata": {
    "collapsed": true
   },
   "outputs": [],
   "source": []
  },
  {
   "cell_type": "code",
   "execution_count": 69,
   "metadata": {
    "collapsed": true
   },
   "outputs": [],
   "source": [
    "class Course(object):\n",
    "    \n",
    "    def __init__(self):\n",
    "        self.name = None\n",
    "        self.instructors = None\n",
    "        self.semester = None\n",
    "        self.schedule = None\n",
    "        self.strings = None\n",
    "        \n",
    "    def __str__(self):\n",
    "        return \"{}\".format(self.name)\n",
    "        \n",
    "    def __repr__(self):\n",
    "        # for nicer ipython debugging\n",
    "        return str(self.__dict__)\n",
    "    \n",
    "    def to_dict(self):\n",
    "        # ALIAS\n",
    "        return self.__dict__\n",
    "#         return dict(\n",
    "#             name=self.name,\n",
    "#             instructors=self.instructors,\n",
    "#             semester=self.semester,\n",
    "#             schedule=self.schedule,\n",
    "#             strings=self.strings\n",
    "#         )"
   ]
  },
  {
   "cell_type": "code",
   "execution_count": 75,
   "metadata": {
    "collapsed": false,
    "scrolled": true
   },
   "outputs": [],
   "source": [
    "# the .fs2 will be the title\n",
    "# following .fs3 will be descriptive strings\n",
    "\n",
    "courses = []\n",
    "current_course = None\n",
    "\n",
    "for elt in elts:    \n",
    "    \n",
    "    \n",
    "    # first, ensure there's something actually here\n",
    "    # FIXME could be bugs here from page breaks\n",
    "    elt_text = None\n",
    "    if elt.string is None or elt.string.strip() == \"\":\n",
    "        continue\n",
    "    else:\n",
    "        elt_text = elt.string.strip()\n",
    "    \n",
    "    if 'fs2' in elt['class']:\n",
    "        # .fs2 marks course titles\n",
    "        \n",
    "        # start a new course\n",
    "        current_course = Course()\n",
    "        courses.append(current_course)\n",
    "        \n",
    "        current_course.name = elt_text\n",
    "        current_course.strings = []\n",
    "        current_course.instructors = []\n",
    "    elif set(['x5','ff3']).issubset(set(elt['class'])):\n",
    "        # this is an instructor name!\n",
    "        \n",
    "        current_course.instructors.append(elt_text)\n",
    "    elif elt is not None:\n",
    "        # these are descriptive strings\n",
    "        \n",
    "        # error checking\n",
    "        if current_course is None:\n",
    "            continue\n",
    "        if elt.string is None:\n",
    "            continue\n",
    "            \n",
    "        # remove page footers\n",
    "        BANNED_STRINGS = (\n",
    "            'HARVARD UNIVERSITY',\n",
    "            '9/4/2017 0:39 AM',\n",
    "            '9/24/2017 0:39 AM',\n",
    "            'HARVARD UNIVERSITY 9/24/2017 0:39 AM'\n",
    "        )\n",
    "        if elt.string in BANNED_STRINGS:\n",
    "            continue\n",
    "            \n",
    "        current_course.strings.append(elt.string)"
   ]
  },
  {
   "cell_type": "code",
   "execution_count": 80,
   "metadata": {
    "collapsed": false
   },
   "outputs": [],
   "source": [
    "import re \n",
    "\n",
    "# Now try to pull meaningful info out of the strings\n",
    "for course in courses:\n",
    "    # try to extract a course schedule\n",
    "    times = []\n",
    "    for string in course.strings:\n",
    "        matcher = re.compile(\"[MTWRF]{1,5} \\d{4} [AP]M - \\d{4} [AP]M\")\n",
    "        times.append(matcher.findall(string))\n",
    "        \n",
    "    flattened_times = sum(times,[])\n",
    "    \n",
    "    # this array will have max 1 element\n",
    "    if len(flattened_times) > 0:\n",
    "        course.schedule = flattened_times[0]\n",
    "    else:\n",
    "        course.schedule = None\n",
    "    \n",
    "    \n",
    "    # try to extract a semester\n",
    "    for string in course.strings:\n",
    "        semester = re.search(\"20\\d\\d ((Fall)|(Spring))\", string)\n",
    "        if semester is not None:\n",
    "            # just find the first one then quit\n",
    "            course.semester = semester.group()\n",
    "            break\n",
    "        "
   ]
  },
  {
   "cell_type": "code",
   "execution_count": 81,
   "metadata": {
    "collapsed": false,
    "scrolled": true
   },
   "outputs": [
    {
     "data": {
      "text/plain": [
       "[{'strings': [u'Autonomous Robot Systems', u'2018 Spring (4 Credits)', u'Schedule: ', u'F 0100 PM - 0359 PM', u'Instructor Permissions:', u'Instructor', u'Enrollment Cap:', u'15', u'Building autonomous robotic systems requires understanding how to make robots that observe, reason, and act.  ', u'Each component uses many engineering principles: how to fuse, multiple, noisy sensors; how to balance short-term', u'versus long-term goals; how to control one&apos;s actions and how to coordinate with others. This year theme will be ', u'\"Robots Roam the Halls\", where we will focus on kinect-based robots that move in the SEAS buildings, to do ', u'applications like navigating, map building, and interacting with people. The class format will have a mixed lecture ', u'and lab format, and have a final project component.', u'Course Notes:', u'Preference will be given to students with experience in AI (e.g. CS181 or ', u'CS182 and/or robotics ES159).', u'Additional Course Attributes:'], 'semester': u'2018 Spring', 'instructors': [u'Radhika Nagpal'], 'name': u'Computer Science  189', 'schedule': u'F 0100 PM - 0359 PM'},\n",
       " {'strings': [u'2018 Spring (4 Credits)', u'Schedule: ', u'MW 0900 AM - 1029 AM', u'Instructor Permissions:', u'None', u'Enrollment Cap:', u'n/a', u'Papers every computer scientist should have read, from all areas of the field and dating from its origins to the ', u'present.', u'Additional Course Attributes:'], 'semester': u'2018 Spring', 'instructors': [u'Harry Lewis'], 'name': u'Computer Science  191', 'schedule': u'MW 0900 AM - 1029 AM'},\n",
       " {'strings': [u'Computing Foundations for Computational Science', u'2018 Spring (4 Credits)', u'Schedule: ', u'TR 0230 PM - 0359 PM', u'Instructor Permissions:', u'None', u'Enrollment Cap:', u'n/a', u'An applications course highlighting the use of computers in solving scientific problems. Students will be exposed to ', u'fundamental computer science concepts such as computer architectures, data structures, algorithms, and parallel ', u'computing. Fundamentals of scientific computing including abstract thinking, algorithmic development, and ', u'assessment of computational approaches. Students will learn to use open source tools and libraries and apply them', u'to data analysis, modeling, and visualization of real scientific problems. Emphasizes parallel programming and ', u'\"parallel thinking.\"', u'Recommended Prep:', u'Students are expected to have programming experience (e.g., CS50/51, ', u'fluent in Python, C/C++, or similar). Course will be taught primarily in Python', u'and C.', u'Additional Course Attributes:'], 'semester': u'2018 Spring', 'instructors': [u'Ignacio Llorente'], 'name': u'Computer Science  205', 'schedule': u'TR 0230 PM - 0359 PM'},\n",
       " {'strings': [u'2017 Fall (4 Credits)', u'Schedule: ', u'MW 1130 AM - 1259 PM', u'Instructor Permissions:', u'None', u'Enrollment Cap:', u'n/a', u'This is a project-based course emphasizing designing, building, testing, maintaining and modifying software for ', u'scientific computing. Students will work in groups on a number of projects, ranging from small data-transformation ', u'utilities to large-scale systems. Students will learn to use a variety of tools and languages, as well as various ', u'techniques for organizing teams. Most important, students will learn to fit tools and approaches to the problem being', u'solved.', u'Recommended Prep:', u'Students are expected to have basic programming experience (Computer ', u'Science 50).', u'Additional Course Attributes:'], 'semester': u'2017 Fall', 'instructors': [u'David Sondak'], 'name': u'Computer Science  207', 'schedule': u'MW 1130 AM - 1259 PM'},\n",
       " {'strings': [u'2018 Spring (4 Credits)', u'Schedule: ', u'TR 0230 PM - 0359 PM', u'Instructor Permissions:', u'None', u'Enrollment Cap:', u'n/a', u'A quantitative theory of the resources needed for computing and the impediments to efficient computation. The ', u'models of computation considered include ones that are finite or infinite, deterministic, randomized, quantum or ', u'nondeterministic, discrete or algebraic, sequential or parallel.', u'Recommended Prep:', u'Computer Science 121 or equivalent.', u'Additional Course Attributes:'], 'semester': u'2018 Spring', 'instructors': [u'Madhu Sudan'], 'name': u'Computer Science  221', 'schedule': u'TR 0230 PM - 0359 PM'},\n",
       " {'strings': [u'2017 Fall (4 Credits)', u'Schedule: ', u'TR 0230 PM - 0359 PM', u'Instructor Permissions:', u'None', u'Enrollment Cap:', u'n/a', u'Big data is data so large that it does not fit in the main memory of a single machine. The need to process big data ', u'by space-efficient algorithms arises in Internet search, machine learning, network traffic monitoring, scientific ', u'computing, signal processing, and other areas. This course will cover mathematically rigorous models for ', u'developing such algorithms, as well as some provable limitations of algorithms operating in those models. Some ', u'topics covered include streaming algorithms, dimensionality reduction and sketching, randomized algorithms for ', u'numerical linear algebra, sparse recovery and the sparse Fourier transform.  The course will also cover some ', u'applications of these methods.', u'Recommended Prep:', u'CS 124; knowledge of discrete probability and linear algebra.', u'Additional Course Attributes:'], 'semester': u'2017 Fall', 'instructors': [u'Jelani Nelson'], 'name': u'Computer Science  226', 'schedule': u'TR 0230 PM - 0359 PM'},\n",
       " {'strings': [u'2018 Spring (4 Credits)', u'Schedule: ', u'TR 1000 AM - 1129 AM', u'Instructor Permissions:', u'None', u'Enrollment Cap:', u'n/a', u'Cryptography is as old as human communication itself, but has undergone a revolution in the last few decades. It is ', u'now about much more than \"secret writing\" and includes seemingly paradoxical notions such as communicating ', u'securely without a shared secret, and computing on encrypted data. In this challenging but rewarding course we will', u'start from the basics of private and public key cryptography and go all the way up to advanced notions such as fully ', u'homomorphic encryption and software obfuscation. This is a proof-based course that will be best appreciated by ', u'mathematically mature students.', u'Course Notes:', u'This course will be offered in both an undergraduate and graduate versions. ', u'The graduate version will involve an additional project.', u'Recommended Prep:', u'Comfort with mathematical proofs at the level of CS121, CS124 or similar. ', u'Please contact the instructor if you&apos;re unsure if your background is sufficient.', u'Additional Course Attributes:'], 'semester': u'2018 Spring', 'instructors': [u'Boaz Barak'], 'name': u'Computer Science  227R', 'schedule': u'TR 1000 AM - 1129 AM'},\n",
       " {'strings': [u'2018 Spring (4 Credits)', u'Schedule: ', u'TR 0230 PM - 0359 PM', u'Instructor Permissions:', u'None', u'Enrollment Cap:', u'n/a', u'Possibilities of and limitations to performing learning by computational agents. Topics include computational ', u'models, polynomial time learnability, learning from examples and learning from queries to oracles. Applications to ', u'Boolean functions, automata and geometric functions.', u'Recommended Prep:', u'Computer Science 121 or equivalent.', u'Additional Course Attributes:'], 'semester': u'2018 Spring', 'instructors': [u'Leslie Valiant'], 'name': u'Computer Science  228', 'schedule': u'TR 0230 PM - 0359 PM'},\n",
       " {'strings': [u'2017 Fall (4 Credits)', u'Schedule: ', u'F 1000 AM - 1259 PM', u'Instructor Permissions:', u'None', u'Enrollment Cap:', u'n/a', u'The goal of this course is to provide an introduction to the area of Arithmetic Circuit Complexity and to try and get a ', u'sense of the power and limitations of arithmetic circuits as a computational model. We hope to see a combination of', u'both classical and recent results in this area, including some upper bounds, lower bounds and questions about ', u'factoring and derandomization. ', u'A more detailed description of the course, and tentative content can be found at ', u'https://mrinalkr.bitbucket.io/arithmeticcktsF17.html', u'Recommended Prep:', u'CS 121/124/125 or equivalents.', u'Additional Course Attributes:'], 'semester': u'2017 Fall', 'instructors': [u'Mrinal Kumar'], 'name': u'Computer Science  229R', 'schedule': u'F 1000 AM - 1259 PM'},\n",
       " {'strings': [u'Topics on Computation in Networks and Crowds', u'2018 Spring (4 Credits)', u'Schedule: ', u'TBD', u'Instructor Permissions:', u'None', u'Enrollment Cap:', u'n/a', u'Topics on the design and analysis of algorithms, processes, and systems related to crowds and social networks. ', u'Readings in AI, theoretical CS, machine learning, social science theory, economic theory, and operations research.', u'Recommended Prep:', u'Mathematics 21b, Applied Mathematics 21b, or equivalent; Computer ', u'Science 124, and 181 or 182, or equivalents; or permission of instructor.', u'Additional Course Attributes:'], 'semester': u'2018 Spring', 'instructors': [u'Yaron Singer'], 'name': u'Computer Science  234R', 'schedule': None}]"
      ]
     },
     "execution_count": 81,
     "metadata": {},
     "output_type": "execute_result"
    }
   ],
   "source": [
    "courses[1200:1210]"
   ]
  },
  {
   "cell_type": "code",
   "execution_count": 78,
   "metadata": {
    "collapsed": true
   },
   "outputs": [],
   "source": [
    "# dump data to file\n",
    "\n",
    "# convert courses to dicts\n",
    "course_dicts = [c.to_dict() for c in courses]\n",
    "\n",
    "import json\n",
    "with open('course_catalog_dump.json', 'w') as outfile:\n",
    "    json.dump(course_dicts, outfile)"
   ]
  },
  {
   "cell_type": "code",
   "execution_count": 79,
   "metadata": {
    "collapsed": false
   },
   "outputs": [],
   "source": [
    "# TODO: extract more info"
   ]
  },
  {
   "cell_type": "code",
   "execution_count": null,
   "metadata": {
    "collapsed": true
   },
   "outputs": [],
   "source": []
  },
  {
   "cell_type": "code",
   "execution_count": 23,
   "metadata": {
    "collapsed": true
   },
   "outputs": [],
   "source": [
    "# OLD: to turn a date into numbers\n",
    "def get_time(contents):\n",
    "    matcher = re.compile(\"[MTWRF]{1,5} \\d{4} [AP]M - \\d{4} [AP]M\")\n",
    "    times = matcher.findall(contents)\n",
    "\n",
    "    submatcher = re.compile(\"([MTWRF]{1,5}) (\\d{4}) ([AP]M) - (\\d{4}) ([AP]M)\")\n",
    "\n",
    "    for time in times:\n",
    "        timeTuple = submatcher.findall(time)[0]\n",
    "        newTime = [timeTuple[0], int(timeTuple[1]), int(timeTuple[3])]\n",
    "        if timeTuple[2] == \"PM\" and timeTuple[1][0:2] != \"12\":\n",
    "            newTime[1] += 1200\n",
    "        if timeTuple[4] == \"PM\" and timeTuple[3][0:2] != \"12\":\n",
    "            newTime[2] += 1200\n",
    "        newTime[1] = 60 * (newTime[1] // 100) + (newTime[1] % 100)\n",
    "        newTime[2] = 60 * (newTime[2] // 100) + (newTime[2] % 100)\n",
    "        \n",
    "        return dict(\n",
    "            days=newTime[0],\n",
    "            start=newTime[1],\n",
    "            end=newTime[2]\n",
    "        )\n",
    "\n",
    "        return newTime\n",
    "    \n",
    "    # no times found\n",
    "    return None"
   ]
  },
  {
   "cell_type": "code",
   "execution_count": 9,
   "metadata": {
    "collapsed": false
   },
   "outputs": [
    {
     "data": {
      "text/plain": [
       "{'days': 'R', 'end': 1079, 'start': 960}"
      ]
     },
     "execution_count": 9,
     "metadata": {},
     "output_type": "execute_result"
    }
   ],
   "source": [
    "get_time(\"R 0400 PM - 0559 PM\")"
   ]
  },
  {
   "cell_type": "code",
   "execution_count": 39,
   "metadata": {
    "collapsed": false
   },
   "outputs": [
    {
     "name": "stdout",
     "output_type": "stream",
     "text": [
      "{'semester': u'2018 Spring', 'instructors': [u'Jason Ur'], 'name': u'Anthropology   97X ', 'schedule': u'M 0200 PM - 0359 PM', 'strings': [u'2018 Spring (4 Credits)', u'Schedule: ', u'M 0200 PM - 0359 PM', u'Instructor Permissions:', u'Instructor', u'Enrollment Cap:', u'n/a', u'This course will focus on archaeological thinking, the cognitive skeleton of the discipline of archaeology, the ', u'principles and the logic that are the foundation of all archaeological conclusions and research. Central to this is an ', u'understanding of research design, archaeological theory and interpretation, culture and material culture; as well as ', u'an understanding of how to examine and construct an archaeological argument.', u'Course Notes:', u'This course is offered via the Archaeology track within Anthropology.', u'Additional Course Attributes:']}\n",
      "{'semester': u'2017 Fall', 'instructors': [u'Jason Ur', u'Jeffrey Quilter'], 'name': u'Anthropology 1095 ', 'schedule': u'MW 1100 AM - 1159 AM', 'strings': [u'(113901)', u'2017 Fall (4 Credits)', u'Schedule: ', u'MW 1100 AM - 1159 AM', u'Instructor Permissions:', u'None', u'Enrollment Cap:', u'n/a', u'Examines the development and structure of the earliest state-level societies in the ancient world. Archaeological ', u'approaches are used to analyze the major factors behind the processes of urbanization and state formation in ', u'Mesopotamia, Egypt, Central Asia, the Indus Valley, and Mesoamerica. The environmental background as well as ', u'the social, political, and economic characteristics of each civilization are compared to understand the varied forces ', u'that were involved in the transitions from village to urbanized life. Discussion sections utilize archaeological ', u'materials from the Peabody Museum and Semitic Museum collections to study the archaeological methods used in ', u'the class.', u'Course Notes:', u'No previous knowledge of archaeology is necessary.', u'Additional Course Attributes:']}\n",
      "{'semester': u'2017 Fall', 'instructors': [u'Steven C. Caton', u'Jason Ur'], 'name': u'Anthropology 1450 ', 'schedule': u'T 0100 PM - 0259 PM', 'strings': [u'2017 Fall (4 Credits)', u'Schedule: ', u'T 0100 PM - 0259 PM', u'Instructor Permissions:', u'None', u'Enrollment Cap:', u'n/a', u'This course will show the usefulness of anthropology, conceptually and methodologically, for understanding water ', u'consumption and management in past and contemporary societies, especially those undergoing water stress.  ', u'Topics include cultural notions and values of water, the hydrology and technologies of water purification and ', u'conservation, irrigation and the state, big dams controversies, water as a \"right\" and water as a \"commodity,\" and ', u'local, national and international water management schemes. Case studies are drawn from around the world. ', u'Though social anthropology and archaeology are the main disciplines upon which the course draws, it will also ', u'engage developmental economics, geography, political ecology, history, and water sciences such as conservation ', u'and engineering.', u'Additional Course Attributes:']}\n",
      "{'semester': u'2018 Spring', 'instructors': [u'Jason Ur'], 'name': u'Anthropology 2020 ', 'schedule': None, 'strings': [u'(120580)', u'2018 Spring (4 Credits)', u'Schedule: ', u'TBD', u'Instructor Permissions:', u'Instructor', u'Enrollment Cap:', u'8', u'An introduction to the GIS and remote sensing methods used by archaeologists to document and analyze datasets ', u'at the regional scale. This class will involve the hands-on use of maps, aerial photography, satellite imagery, digital ', u'terrain models and GPS-based observations to frame and approach archaeological research questions. Labs will ', u'use sample datasets from a variety of regions but students will be responsible for assembling a GIS database for ', u'their own region of interest.', u'Additional Course Attributes:']}\n",
      "{'semester': u'2018 Spring', 'instructors': [u'Laurence Ralph', u'Jeffrey Quilter', u'Ajantha Subramanian', u'Mary Steedly', u'Jason Ur', u'Ajantha Subramanian', u'Gary Urton', u'Christian Tryon', u'Jason Ur', u'Gary Urton', u'Theodore Bestor'], 'name': u'Anthropology 3000 ', 'schedule': None, 'strings': [u'Section: 019', u'2018 Spring (4 Credits)', u'Schedule: ', u'TBD', u'Instructor Permissions:', u'Instructor', u'Enrollment Cap:', u'n/a', u'Special reading in selected topics under the direction of members of the Department.', u'Course Notes:', u'Consult the appropriate member of the Department.', u'Additional Course Attributes:', u'(113022)', u'2017 Fall (4 Credits)', u'Schedule: ', u'TBD', u'Instructor Permissions:', u'Instructor', u'Enrollment Cap:', u'n/a', u'Special reading in selected topics under the direction of members of the Department.', u'Course Notes:', u'Consult the appropriate member of the Department.', u'Additional Course Attributes:', u'2018 Spring (4 Credits)', u'Schedule: ', u'TBD', u'Instructor Permissions:', u'Instructor', u'Enrollment Cap:', u'n/a', u'Special reading in selected topics under the direction of members of the Department.', u'Course Notes:', u'Consult the appropriate member of the Department.', u'Additional Course Attributes:', u' ', u' ', u'Reading Course', u'2017 Fall (4 Credits)', u'Schedule: ', u'TBD', u'Instructor Permissions:', u'Instructor', u'Enrollment Cap:', u'n/a', u'Special reading in selected topics under the direction of members of the Department.', u'Course Notes:', u'Consult the appropriate member of the Department.', u'Additional Course Attributes:', u' ', u' ', u'(113022)', u'2018 Spring (4 Credits)', u'Schedule: ', u'TBD', u'Instructor Permissions:', u'Instructor', u'Enrollment Cap:', u'n/a', u'Special reading in selected topics under the direction of members of the Department.', u'Course Notes:', u'Consult the appropriate member of the Department.', u'Additional Course Attributes:', u'2017 Fall (4 Credits)', u'Schedule: ', u'TBD', u'Instructor Permissions:', u'Instructor', u'Enrollment Cap:', u'n/a', u'Special reading in selected topics under the direction of members of the Department.', u'Course Notes:', u'Consult the appropriate member of the Department.', u'Additional Course Attributes:', u'2018 Spring (4 Credits)', u'Schedule: ', u'TBD', u'Instructor Permissions:', u'Instructor', u'Enrollment Cap:', u'n/a', u'Special reading in selected topics under the direction of members of the Department.', u'Course Notes:', u'Consult the appropriate member of the Department.', u'Additional Course Attributes:', u'2017 Fall (4 Credits)', u'Schedule: ', u'TBD', u'Instructor Permissions:', u'Instructor', u'Enrollment Cap:', u'n/a', u'Special reading in selected topics under the direction of members of the Department.', u'Course Notes:', u'Consult the appropriate member of the Department.', u'Additional Course Attributes:', u'2017 Fall (4 Credits)', u'Schedule: ', u'TBD', u'Instructor Permissions:', u'Instructor', u'Enrollment Cap:', u'n/a', u'Special reading in selected topics under the direction of members of the Department.', u'Course Notes:', u'Consult the appropriate member of the Department.', u'Additional Course Attributes:', u'2017 Fall (4 Credits)', u'Schedule: ', u'TBD', u'Instructor Permissions:', u'Instructor', u'Enrollment Cap:', u'n/a', u'Special reading in selected topics under the direction of members of the Department.', u'Course Notes:', u'Consult the appropriate member of the Department.', u'Additional Course Attributes:', u'2018 Spring (4 Credits)', u'Schedule: ', u'TBD', u'Instructor Permissions:', u'Instructor', u'Enrollment Cap:', u'n/a', u'Individual reading in preparation for the General Examination for the PhD degree.', u'Course Notes:', u'Restricted to candidates for the PhD degree and ordinarily to those who ', u'have completed at least one year in residence.', u'Additional Course Attributes:', u' ', u' ']}\n",
      "{'semester': u'2017 Fall', 'instructors': [u'Jason Ur', u'Gary Urton'], 'name': u'Anthropology 3001 ', 'schedule': None, 'strings': [u'Section: 024', u'2017 Fall (4 Credits)', u'Schedule: ', u'TBD', u'Instructor Permissions:', u'Instructor', u'Enrollment Cap:', u'n/a', u'Individual reading in preparation for the General Examination for the PhD degree.', u'Course Notes:', u'Restricted to candidates for the PhD degree and ordinarily to those who ', u'have completed at least one year in residence.', u'Additional Course Attributes:', u' ', u' ', u'(116603)', u'2017 Fall (4 Credits)', u'Schedule: ', u'TBD', u'Instructor Permissions:', u'Instructor', u'Enrollment Cap:', u'n/a', u'Individual reading in preparation for the General Examination for the PhD degree.', u'Course Notes:', u'Restricted to candidates for the PhD degree and ordinarily to those who ', u'have completed at least one year in residence.', u'Additional Course Attributes:']}\n",
      "{'semester': u'2017 Fall', 'instructors': [u'Jason Ur'], 'name': u'Anthropology 3130 ', 'schedule': None, 'strings': [u'2017 Fall (4 Credits)', u'Schedule: ', u'TBD', u'Instructor Permissions:', u'Instructor', u'Enrollment Cap:', u'n/a', u'Additional Course Attributes:']}\n",
      "{'semester': u'2017 Fall', 'instructors': [u'Richard Meadow', u'Jason Ur'], 'name': u'Anthropology 3400 ', 'schedule': None, 'strings': [u'Section: 017', u'2017 Fall (4 Credits)', u'Schedule: ', u'TBD', u'Instructor Permissions:', u'Instructor', u'Enrollment Cap:', u'n/a', u'Course Notes:', u'Consult the appropriate member of the Department.', u'Additional Course Attributes:', u'2018 Spring (4 Credits)', u'Schedule: ', u'TBD', u'Instructor Permissions:', u'Instructor', u'Enrollment Cap:', u'n/a', u'Course Notes:', u'Consult the appropriate member of the Department.', u'Additional Course Attributes:']}\n",
      "{'semester': u'2017 Fall', 'instructors': [u'Christian Tryon', u'Jason Ur'], 'name': u'Anthropology 3400 ', 'schedule': None, 'strings': [u'Section: 023', u'2017 Fall (4 Credits)', u'Schedule: ', u'TBD', u'Instructor Permissions:', u'Instructor', u'Enrollment Cap:', u'n/a', u'Course Notes:', u'Consult the appropriate member of the Department.', u'Additional Course Attributes:', u'2017 Fall (4 Credits)', u'Schedule: ', u'TBD', u'Instructor Permissions:', u'Instructor', u'Enrollment Cap:', u'n/a', u'Course Notes:', u'Consult the appropriate member of the Department.', u'Additional Course Attributes:']}\n",
      "{'semester': u'2017 Fall', 'instructors': [u'Jason Ur'], 'name': u'Anthropology 3500 ', 'schedule': None, 'strings': [u'Section: 025', u'2017 Fall (4 Credits)', u'Schedule: ', u'TBD', u'Instructor Permissions:', u'Instructor', u'Enrollment Cap:', u'n/a', u'Course Notes:', u'Consult the appropriate member of the Department.', u'Additional Course Attributes:']}\n",
      "{'semester': u'2018 Spring', 'instructors': [u'Jason Ur'], 'name': u'Anthropology 3500 ', 'schedule': None, 'strings': [u'Section: 027', u'2018 Spring (4 Credits)', u'Schedule: ', u'TBD', u'Instructor Permissions:', u'Instructor', u'Enrollment Cap:', u'n/a', u'Course Notes:', u'Consult the appropriate member of the Department.', u'Additional Course Attributes:']}\n"
     ]
    }
   ],
   "source": [
    "for g in groups:\n",
    "    if 'instructors' in g:\n",
    "        if 'Jason Ur' in g['instructors']:\n",
    "            print g"
   ]
  },
  {
   "cell_type": "code",
   "execution_count": 58,
   "metadata": {
    "collapsed": false
   },
   "outputs": [
    {
     "data": {
      "text/plain": [
       "{'instructors': [u'Radhika Nagpal'],\n",
       " 'name': u'Computer Science  189 ',\n",
       " 'schedule': None,\n",
       " 'semester': None,\n",
       " 'strings': [u'Autonomous Robot Systems',\n",
       "  u'2018 Spring (4 Credits)',\n",
       "  u'Schedule: ',\n",
       "  u'F 0100 PM - 0359 PM',\n",
       "  u'Instructor Permissions:',\n",
       "  u'Instructor',\n",
       "  u'Enrollment Cap:',\n",
       "  u'15',\n",
       "  u'Building autonomous robotic systems requires understanding how to make robots that observe, reason, and act.  ',\n",
       "  u'Each component uses many engineering principles: how to fuse, multiple, noisy sensors; how to balance short-term',\n",
       "  u'versus long-term goals; how to control one&apos;s actions and how to coordinate with others. This year theme will be ',\n",
       "  u'\"Robots Roam the Halls\", where we will focus on kinect-based robots that move in the SEAS buildings, to do ',\n",
       "  u'applications like navigating, map building, and interacting with people. The class format will have a mixed lecture ',\n",
       "  u'and lab format, and have a final project component.',\n",
       "  u'Course Notes:',\n",
       "  u'Preference will be given to students with experience in AI (e.g. CS181 or ',\n",
       "  u'CS182 and/or robotics ES159).',\n",
       "  u'Additional Course Attributes:']}"
      ]
     },
     "execution_count": 58,
     "metadata": {},
     "output_type": "execute_result"
    }
   ],
   "source": [
    "courses[1200].to_dict()"
   ]
  },
  {
   "cell_type": "code",
   "execution_count": null,
   "metadata": {
    "collapsed": true
   },
   "outputs": [],
   "source": []
  }
 ],
 "metadata": {
  "anaconda-cloud": {},
  "kernelspec": {
   "display_name": "Python [default]",
   "language": "python",
   "name": "python2"
  },
  "language_info": {
   "codemirror_mode": {
    "name": "ipython",
    "version": 2
   },
   "file_extension": ".py",
   "mimetype": "text/x-python",
   "name": "python",
   "nbconvert_exporter": "python",
   "pygments_lexer": "ipython2",
   "version": "2.7.12"
  }
 },
 "nbformat": 4,
 "nbformat_minor": 2
}
