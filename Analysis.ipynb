{
 "cells": [
  {
   "cell_type": "code",
   "execution_count": 3,
   "metadata": {
    "collapsed": false
   },
   "outputs": [],
   "source": [
    "from bs4 import BeautifulSoup"
   ]
  },
  {
   "cell_type": "code",
   "execution_count": 4,
   "metadata": {
    "collapsed": false
   },
   "outputs": [],
   "source": [
    "raw_content = None\n",
    "\n",
    "with open('fas_crse_cat.html', 'r') as f:\n",
    "    raw_content = f.read()\n",
    "    \n",
    "soup = BeautifulSoup(raw_content, 'html.parser')"
   ]
  },
  {
   "cell_type": "code",
   "execution_count": 15,
   "metadata": {
    "collapsed": false,
    "scrolled": true
   },
   "outputs": [],
   "source": [
    "# all content will be in div.t\n",
    "# so extract this\n",
    "elts = soup.find_all('div', class_='t')"
   ]
  },
  {
   "cell_type": "code",
   "execution_count": 34,
   "metadata": {
    "collapsed": false
   },
   "outputs": [
    {
     "data": {
      "text/plain": [
       "<module 'parser' from 'parser.pyc'>"
      ]
     },
     "execution_count": 34,
     "metadata": {},
     "output_type": "execute_result"
    }
   ],
   "source": [
    "import course\n",
    "reload(course)\n",
    "import parser\n",
    "reload(parser)"
   ]
  },
  {
   "cell_type": "code",
   "execution_count": 41,
   "metadata": {
    "collapsed": false,
    "scrolled": true
   },
   "outputs": [
    {
     "ename": "AttributeError",
     "evalue": "'Course' object has no attribute 'Course'",
     "output_type": "error",
     "traceback": [
      "\u001b[0;31m---------------------------------------------------------------------------\u001b[0m",
      "\u001b[0;31mAttributeError\u001b[0m                            Traceback (most recent call last)",
      "\u001b[0;32m<ipython-input-41-1818f780eb0e>\u001b[0m in \u001b[0;36m<module>\u001b[0;34m()\u001b[0m\n\u001b[1;32m     31\u001b[0m \u001b[0;34m\u001b[0m\u001b[0m\n\u001b[1;32m     32\u001b[0m         \u001b[0;31m# start a new course\u001b[0m\u001b[0;34m\u001b[0m\u001b[0;34m\u001b[0m\u001b[0m\n\u001b[0;32m---> 33\u001b[0;31m         \u001b[0mcurrent_course\u001b[0m \u001b[0;34m=\u001b[0m \u001b[0mcourse\u001b[0m\u001b[0;34m.\u001b[0m\u001b[0mCourse\u001b[0m\u001b[0;34m(\u001b[0m\u001b[0;34m)\u001b[0m\u001b[0;34m\u001b[0m\u001b[0m\n\u001b[0m\u001b[1;32m     34\u001b[0m         \u001b[0mcourses\u001b[0m\u001b[0;34m.\u001b[0m\u001b[0mappend\u001b[0m\u001b[0;34m(\u001b[0m\u001b[0mcurrent_course\u001b[0m\u001b[0;34m)\u001b[0m\u001b[0;34m\u001b[0m\u001b[0m\n\u001b[1;32m     35\u001b[0m \u001b[0;34m\u001b[0m\u001b[0m\n",
      "\u001b[0;31mAttributeError\u001b[0m: 'Course' object has no attribute 'Course'"
     ]
    }
   ],
   "source": [
    "import re\n",
    "\n",
    "# the .fs2 will be the title\n",
    "# following .fs3 will be descriptive strings\n",
    "\n",
    "courses = []\n",
    "current_course = None\n",
    "\n",
    "def elt_has_classes(elt, class_list):\n",
    "    \"\"\"\n",
    "    Returns true if the given HTML element has the given\n",
    "    classes.\n",
    "    \n",
    "    Usage: elt_has_classes(my_element, ['btn','btn-primary])\n",
    "    \"\"\"\n",
    "    return set(class_list).issubset(set(elt['class']))\n",
    "\n",
    "for elt in elts:    \n",
    "    \n",
    "    # first, ensure there's something actually here\n",
    "    # FIXME could be bugs here from page breaks\n",
    "    elt_text = None\n",
    "    if elt.text is None or elt.text.strip() == \"\":\n",
    "        continue\n",
    "    else:\n",
    "        elt_text = elt.text.strip()\n",
    "    \n",
    "    if elt_has_classes(elt, ['x5','fs2']):\n",
    "        # .x5.fs2 marks course numbers (e.g. COMPSCI 50)\n",
    "        # and begins the start of a section for the course\n",
    "        \n",
    "        # start a new course\n",
    "        current_course = course.Course()\n",
    "        courses.append(current_course)\n",
    "        \n",
    "        current_course.set_course_number(elt_text)\n",
    "    elif elt_has_classes(elt, ['x5','hc','ff1','fs3']):\n",
    "        # this is course name (e.g. Introduction to Computer Science)\n",
    "        # actually, it contains [course name, course id]\n",
    "        # course id might not be in there, but don't worry about that for now\n",
    "        \n",
    "        # ASIDE:\n",
    "        # one problem is that sometimes the course name\n",
    "        # is written in a .x5.h6.ff1.fs3 (note h6 not hc) (these are classes, btw)\n",
    "        # and we can't just search for those b/c many other types of data\n",
    "        # use those same classes. so we'd have to search for those classes\n",
    "        # and THEN apply some kind of regex or other conditional to make sure we're extracting\n",
    "        # a course title and not anything else. basically it's messy and a TODO.\n",
    "        \n",
    "        course_name_list = list(elt)\n",
    "        \n",
    "        # if it doesn't have exactly 2 elements, it's malformed... skip!\n",
    "        if len(course_name_list) != 2:\n",
    "            continue\n",
    "    \n",
    "        # now unpack it\n",
    "        [course_name, course_id_container] = list(elt)\n",
    "        \n",
    "        # write the name\n",
    "        current_course.name = course_name.strip()\n",
    "        \n",
    "        # now the id\n",
    "        current_course.set_id(course_id_container.text)\n",
    "\n",
    "    elif elt_has_classes(elt, ['h10','ff1','fs5']):\n",
    "        # this is an alternative way for course ids to be placed\n",
    "        # now, this includes BAD text like `FAS: Meets Foreign Lang Req Hausa`\n",
    "        # as well as legit things which are like \n",
    "        # `(123591)`\n",
    "        matcher = re.compile(\"\\(\\d+\\)\")\n",
    "        results = matcher.findall(elt.text.strip())\n",
    "        if len(results) > 0:\n",
    "            # then we have a legit id number!!!!\n",
    "            # remove parens\n",
    "            # TODO: factor out to Course class\n",
    "            current_course.id = elt.text.strip()[1:-1]\n",
    "    elif elt_has_classes(elt, ['x5','ff3']):\n",
    "        # this is an instructor name!\n",
    "        current_course.instructors.append(elt_text)\n",
    "    elif elt is not None:\n",
    "        # these are descriptive strings\n",
    "\n",
    "        # error checking\n",
    "        if current_course is None:\n",
    "            continue\n",
    "            \n",
    "        # remove page footers\n",
    "        BANNED_STRINGS = (\n",
    "            'HARVARD UNIVERSITY',\n",
    "            '9/4/2017 0:39 AM',\n",
    "            '9/24/2017 0:39 AM',\n",
    "            'HARVARD UNIVERSITY 9/24/2017 0:39 AM'\n",
    "        )\n",
    "        if elt_text in BANNED_STRINGS:\n",
    "            continue\n",
    "            \n",
    "        current_course.strings.append(elt_text)"
   ]
  },
  {
   "cell_type": "code",
   "execution_count": 42,
   "metadata": {
    "collapsed": false
   },
   "outputs": [],
   "source": [
    "# Now try to pull meaningful info out of the strings\n",
    "for course in courses:\n",
    "    # raw data is there, now process it\n",
    "    course.process_strings()"
   ]
  },
  {
   "cell_type": "code",
   "execution_count": 37,
   "metadata": {
    "collapsed": false
   },
   "outputs": [
    {
     "data": {
      "text/plain": [
       "{'name': u'African Religions', 'schedule': u'T 0200 PM - 0359 PM', 'instructors': [u'Jacob Olupona'], 'number': u'African & African Amer Studies 187', 'id': u'123438', 'semester': u'2017 Fall', 'strings': [u'2017 Fall (4 Credits)', u'Schedule:', u'T 0200 PM - 0359 PM', u'Instructor Permissions:', u'None', u'Enrollment Cap:', u'n/a', u'This course is a basic introduction to the history and phenomenology of traditional religions of the African peoples.', u'Using diverse methodological and theoretical approaches, the course will explore various forms of experiences and', u'practices that provide a deep understanding and appreciation of the sacred meaning of African existence: myth,', u'ritual arts, and symbols selected from West, East, Central, and Southern Africa.', u'Course Notes:', u'Offered jointly with the Divinity School as 3690.', u'Additional Course Attributes:', u'Attribute Value(s)']}"
      ]
     },
     "execution_count": 37,
     "metadata": {},
     "output_type": "execute_result"
    }
   ],
   "source": [
    "courses[35]"
   ]
  },
  {
   "cell_type": "code",
   "execution_count": 38,
   "metadata": {
    "collapsed": true
   },
   "outputs": [],
   "source": [
    "# dump\n",
    "parser.dump_csv(courses)"
   ]
  },
  {
   "cell_type": "code",
   "execution_count": null,
   "metadata": {
    "collapsed": true
   },
   "outputs": [],
   "source": []
  },
  {
   "cell_type": "code",
   "execution_count": null,
   "metadata": {
    "collapsed": true
   },
   "outputs": [],
   "source": []
  },
  {
   "cell_type": "code",
   "execution_count": null,
   "metadata": {
    "collapsed": true
   },
   "outputs": [],
   "source": []
  },
  {
   "cell_type": "code",
   "execution_count": null,
   "metadata": {
    "collapsed": true
   },
   "outputs": [],
   "source": []
  },
  {
   "cell_type": "code",
   "execution_count": null,
   "metadata": {
    "collapsed": true
   },
   "outputs": [],
   "source": []
  }
 ],
 "metadata": {
  "anaconda-cloud": {},
  "kernelspec": {
   "display_name": "Python [default]",
   "language": "python",
   "name": "python2"
  },
  "language_info": {
   "codemirror_mode": {
    "name": "ipython",
    "version": 2
   },
   "file_extension": ".py",
   "mimetype": "text/x-python",
   "name": "python",
   "nbconvert_exporter": "python",
   "pygments_lexer": "ipython2",
   "version": "2.7.12"
  }
 },
 "nbformat": 4,
 "nbformat_minor": 2
}
