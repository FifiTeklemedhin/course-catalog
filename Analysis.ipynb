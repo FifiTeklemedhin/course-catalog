{
 "cells": [
  {
   "cell_type": "code",
   "execution_count": 1,
   "metadata": {
    "collapsed": false
   },
   "outputs": [],
   "source": [
    "from bs4 import BeautifulSoup"
   ]
  },
  {
   "cell_type": "code",
   "execution_count": 2,
   "metadata": {
    "collapsed": false
   },
   "outputs": [],
   "source": [
    "raw_content = None\n",
    "\n",
    "with open('fas_crse_cat.html', 'r') as f:\n",
    "    raw_content = f.read()\n",
    "    \n",
    "soup = BeautifulSoup(raw_content, 'html.parser')"
   ]
  },
  {
   "cell_type": "code",
   "execution_count": 3,
   "metadata": {
    "collapsed": false,
    "scrolled": true
   },
   "outputs": [],
   "source": [
    "# all content will be in div.t\n",
    "# so extract this\n",
    "elts = soup.find_all('div', class_='t')"
   ]
  },
  {
   "cell_type": "code",
   "execution_count": 14,
   "metadata": {
    "collapsed": false
   },
   "outputs": [
    {
     "data": {
      "text/plain": [
       "<module 'parser' from 'parser.pyc'>"
      ]
     },
     "execution_count": 14,
     "metadata": {},
     "output_type": "execute_result"
    }
   ],
   "source": [
    "import course\n",
    "reload(course)\n",
    "import parser\n",
    "reload(parser)"
   ]
  },
  {
   "cell_type": "code",
   "execution_count": 15,
   "metadata": {
    "collapsed": false,
    "scrolled": true
   },
   "outputs": [],
   "source": [
    "import re\n",
    "\n",
    "# the .fs2 will be the title\n",
    "# following .fs3 will be descriptive strings\n",
    "\n",
    "courses = []\n",
    "current_course = None\n",
    "\n",
    "def elt_has_classes(elt, class_list):\n",
    "    \"\"\"\n",
    "    Returns true if the given HTML element has the given\n",
    "    classes.\n",
    "    \n",
    "    Usage: elt_has_classes(my_element, ['btn','btn-primary])\n",
    "    \"\"\"\n",
    "    return set(class_list).issubset(set(elt['class']))\n",
    "\n",
    "for elt in elts:    \n",
    "    \n",
    "    # first, ensure there's something actually here\n",
    "    # FIXME could be bugs here from page breaks\n",
    "    elt_text = None\n",
    "    if elt.text is None or elt.text.strip() == \"\":\n",
    "        continue\n",
    "    else:\n",
    "        elt_text = elt.text.strip()\n",
    "    \n",
    "    if elt_has_classes(elt, ['x5','fs2']):\n",
    "        # .x5.fs2 marks course numbers (e.g. COMPSCI 50)\n",
    "        # and begins the start of a section for the course\n",
    "        \n",
    "        # start a new course\n",
    "        current_course = course.Course()\n",
    "        courses.append(current_course)\n",
    "        \n",
    "        current_course.set_course_number(elt_text)\n",
    "    elif elt_has_classes(elt, ['x5','hc','ff1','fs3']):\n",
    "        # this is course name (e.g. Introduction to Computer Science)\n",
    "        # actually, it contains [course name, course id]\n",
    "        # course id might not be in there, but don't worry about that for now\n",
    "        \n",
    "        # ASIDE:\n",
    "        # one problem is that sometimes the course name\n",
    "        # is written in a .x5.h6.ff1.fs3 (note h6 not hc) (these are classes, btw)\n",
    "        # and we can't just search for those b/c many other types of data\n",
    "        # use those same classes. so we'd have to search for those classes\n",
    "        # and THEN apply some kind of regex or other conditional to make sure we're extracting\n",
    "        # a course title and not anything else. basically it's messy and a TODO.\n",
    "        \n",
    "        course_name_list = list(elt)\n",
    "        \n",
    "        # if it doesn't have exactly 2 elements, it's malformed... skip!\n",
    "        if len(course_name_list) != 2:\n",
    "            continue\n",
    "    \n",
    "        # now unpack it\n",
    "        [course_name, course_id_container] = list(elt)\n",
    "        \n",
    "        # write the name\n",
    "        current_course.name = course_name.strip()\n",
    "        \n",
    "        # now the id\n",
    "        current_course.set_id(course_id_container.text)\n",
    "\n",
    "    elif elt_has_classes(elt, ['h10','ff1','fs5']):\n",
    "        # this is an alternative way for course ids to be placed\n",
    "        # now, this includes BAD text like `FAS: Meets Foreign Lang Req Hausa`\n",
    "        # as well as legit things which are like \n",
    "        # `(123591)`\n",
    "        matcher = re.compile(\"\\(\\d+\\)\")\n",
    "        results = matcher.findall(elt.text.strip())\n",
    "        if len(results) > 0:\n",
    "            # then we have a legit id number!!!!\n",
    "            # remove parens\n",
    "            # TODO: factor out to Course class\n",
    "            current_course.id = elt.text.strip()[1:-1]\n",
    "    elif elt_has_classes(elt, ['x5','ff3']):\n",
    "        # this is an instructor name!\n",
    "        current_course.instructors.append(elt_text)\n",
    "    elif elt is not None:\n",
    "        # these are descriptive strings\n",
    "\n",
    "        # error checking\n",
    "        if current_course is None:\n",
    "            continue\n",
    "            \n",
    "        # remove page footers\n",
    "        BANNED_STRINGS = (\n",
    "            'HARVARD UNIVERSITY',\n",
    "            '9/4/2017 0:39 AM',\n",
    "            '9/24/2017 0:39 AM',\n",
    "            'HARVARD UNIVERSITY 9/24/2017 0:39 AM'\n",
    "        )\n",
    "        if elt_text in BANNED_STRINGS:\n",
    "            continue\n",
    "            \n",
    "        current_course.strings.append(elt_text)"
   ]
  },
  {
   "cell_type": "code",
   "execution_count": 16,
   "metadata": {
    "collapsed": false
   },
   "outputs": [
    {
     "ename": "NameError",
     "evalue": "global name 'utils' is not defined",
     "output_type": "error",
     "traceback": [
      "\u001b[0;31m---------------------------------------------------------------------------\u001b[0m",
      "\u001b[0;31mNameError\u001b[0m                                 Traceback (most recent call last)",
      "\u001b[0;32m<ipython-input-16-ed839bee3107>\u001b[0m in \u001b[0;36m<module>\u001b[0;34m()\u001b[0m\n\u001b[1;32m      2\u001b[0m \u001b[0;32mfor\u001b[0m \u001b[0mcourse\u001b[0m \u001b[0;32min\u001b[0m \u001b[0mcourses\u001b[0m\u001b[0;34m:\u001b[0m\u001b[0;34m\u001b[0m\u001b[0m\n\u001b[1;32m      3\u001b[0m     \u001b[0;31m# raw data is there, now process it\u001b[0m\u001b[0;34m\u001b[0m\u001b[0;34m\u001b[0m\u001b[0m\n\u001b[0;32m----> 4\u001b[0;31m     \u001b[0mcourse\u001b[0m\u001b[0;34m.\u001b[0m\u001b[0mprocess_strings\u001b[0m\u001b[0;34m(\u001b[0m\u001b[0;34m)\u001b[0m\u001b[0;34m\u001b[0m\u001b[0m\n\u001b[0m",
      "\u001b[0;32m/Users/neel/Documents/Git/course-catalog/course.py\u001b[0m in \u001b[0;36mprocess_strings\u001b[0;34m(self)\u001b[0m\n\u001b[1;32m    177\u001b[0m         \u001b[0;31m# this array will have max 1 element\u001b[0m\u001b[0;34m\u001b[0m\u001b[0;34m\u001b[0m\u001b[0m\n\u001b[1;32m    178\u001b[0m         \u001b[0;32mif\u001b[0m \u001b[0mlen\u001b[0m\u001b[0;34m(\u001b[0m\u001b[0mflattened_times\u001b[0m\u001b[0;34m)\u001b[0m \u001b[0;34m>\u001b[0m \u001b[0;36m0\u001b[0m\u001b[0;34m:\u001b[0m\u001b[0;34m\u001b[0m\u001b[0m\n\u001b[0;32m--> 179\u001b[0;31m             \u001b[0mself\u001b[0m\u001b[0;34m.\u001b[0m\u001b[0mset_schedule\u001b[0m\u001b[0;34m(\u001b[0m\u001b[0mflattened_times\u001b[0m\u001b[0;34m[\u001b[0m\u001b[0;36m0\u001b[0m\u001b[0;34m]\u001b[0m\u001b[0;34m)\u001b[0m\u001b[0;34m\u001b[0m\u001b[0m\n\u001b[0m\u001b[1;32m    180\u001b[0m         \u001b[0;32melse\u001b[0m\u001b[0;34m:\u001b[0m\u001b[0;34m\u001b[0m\u001b[0m\n\u001b[1;32m    181\u001b[0m             \u001b[0mself\u001b[0m\u001b[0;34m.\u001b[0m\u001b[0mschedule\u001b[0m \u001b[0;34m=\u001b[0m \u001b[0mNone\u001b[0m\u001b[0;34m\u001b[0m\u001b[0m\n",
      "\u001b[0;32m/Users/neel/Documents/Git/course-catalog/course.py\u001b[0m in \u001b[0;36mset_schedule\u001b[0;34m(self, schedule)\u001b[0m\n\u001b[1;32m    138\u001b[0m             \u001b[0;31m# convert start and end time to military time\u001b[0m\u001b[0;34m\u001b[0m\u001b[0;34m\u001b[0m\u001b[0m\n\u001b[1;32m    139\u001b[0m             \u001b[0;31m# e.g. 0130 PM => 1330\u001b[0m\u001b[0;34m\u001b[0m\u001b[0;34m\u001b[0m\u001b[0m\n\u001b[0;32m--> 140\u001b[0;31m             \u001b[0mself\u001b[0m\u001b[0;34m.\u001b[0m\u001b[0mstart_time\u001b[0m \u001b[0;34m=\u001b[0m \u001b[0mutils\u001b[0m\u001b[0;34m.\u001b[0m\u001b[0mtime_to_military\u001b[0m\u001b[0;34m(\u001b[0m\u001b[0mschedule_chunks\u001b[0m\u001b[0;34m[\u001b[0m\u001b[0;36m1\u001b[0m\u001b[0;34m]\u001b[0m\u001b[0;34m,\u001b[0m \u001b[0mschedule_chunks\u001b[0m\u001b[0;34m[\u001b[0m\u001b[0;36m2\u001b[0m\u001b[0;34m]\u001b[0m\u001b[0;34m)\u001b[0m\u001b[0;34m\u001b[0m\u001b[0m\n\u001b[0m\u001b[1;32m    141\u001b[0m             \u001b[0mself\u001b[0m\u001b[0;34m.\u001b[0m\u001b[0mend_time\u001b[0m \u001b[0;34m=\u001b[0m \u001b[0mutils\u001b[0m\u001b[0;34m.\u001b[0m\u001b[0mtime_to_military\u001b[0m\u001b[0;34m(\u001b[0m\u001b[0mschedule_chunks\u001b[0m\u001b[0;34m[\u001b[0m\u001b[0;36m3\u001b[0m\u001b[0;34m]\u001b[0m\u001b[0;34m,\u001b[0m \u001b[0mschedule_chunks\u001b[0m\u001b[0;34m[\u001b[0m\u001b[0;36m4\u001b[0m\u001b[0;34m]\u001b[0m\u001b[0;34m)\u001b[0m\u001b[0;34m\u001b[0m\u001b[0m\n\u001b[1;32m    142\u001b[0m \u001b[0;34m\u001b[0m\u001b[0m\n",
      "\u001b[0;31mNameError\u001b[0m: global name 'utils' is not defined"
     ]
    }
   ],
   "source": [
    "# Now try to pull meaningful info out of the strings\n",
    "for course in courses:\n",
    "    # raw data is there, now process it\n",
    "    course.process_strings()"
   ]
  },
  {
   "cell_type": "code",
   "execution_count": null,
   "metadata": {
    "collapsed": false
   },
   "outputs": [],
   "source": [
    "courses[2000]"
   ]
  },
  {
   "cell_type": "code",
   "execution_count": null,
   "metadata": {
    "collapsed": true
   },
   "outputs": [],
   "source": [
    "# dump\n",
    "parser.dump_csv(courses)"
   ]
  },
  {
   "cell_type": "code",
   "execution_count": null,
   "metadata": {
    "collapsed": true
   },
   "outputs": [],
   "source": []
  },
  {
   "cell_type": "code",
   "execution_count": 9,
   "metadata": {
    "collapsed": false
   },
   "outputs": [
    {
     "name": "stdout",
     "output_type": "stream",
     "text": [
      "(1100, 1159)\n",
      "['Monday', 'Wednesday']\n",
      "(1000, 1059)\n",
      "['Tuesday', 'Thursday']\n",
      "(1400, 1559)\n",
      "['Wednesday']\n",
      "(1130, 1259)\n",
      "['Tuesday', 'Thursday']\n"
     ]
    }
   ],
   "source": [
    "import re\n",
    "import utils\n",
    "\n",
    "schedules = [\n",
    "    \"MW 1100 AM - 1159 AM\",\n",
    "    \"TR 1000 AM - 1059 AM\",\n",
    "    \"W 0200 PM - 0359 PM\",\n",
    "    \"TR 1130 AM - 1259 PM\",\n",
    "    \"TBD\"\n",
    "]\n",
    "\n"
   ]
  },
  {
   "cell_type": "code",
   "execution_count": null,
   "metadata": {
    "collapsed": true
   },
   "outputs": [],
   "source": []
  }
 ],
 "metadata": {
  "anaconda-cloud": {},
  "kernelspec": {
   "display_name": "Python [default]",
   "language": "python",
   "name": "python2"
  },
  "language_info": {
   "codemirror_mode": {
    "name": "ipython",
    "version": 2
   },
   "file_extension": ".py",
   "mimetype": "text/x-python",
   "name": "python",
   "nbconvert_exporter": "python",
   "pygments_lexer": "ipython2",
   "version": "2.7.12"
  }
 },
 "nbformat": 4,
 "nbformat_minor": 2
}
