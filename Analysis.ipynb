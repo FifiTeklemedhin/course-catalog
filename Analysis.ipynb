{
 "cells": [
  {
   "cell_type": "code",
   "execution_count": 5,
   "metadata": {
    "collapsed": true
   },
   "outputs": [],
   "source": [
    "data = None\n",
    "\n",
    "with open('fas_crse_cat.txt', 'r') as f:\n",
    "    data = f.read().splitlines()"
   ]
  },
  {
   "cell_type": "code",
   "execution_count": 6,
   "metadata": {
    "collapsed": false
   },
   "outputs": [
    {
     "data": {
      "text/plain": [
       "['Faculty of Arts and Sciences Course Catalog Preview',\n",
       " 'Table of Contents',\n",
       " ' HARVARD UNIVERSITY 9/4/2017 0:39 AM',\n",
       " 'HARVARD UNIVERSITY 9/4/2017 0:39 AM',\n",
       " 'HARVARD UNIVERSITY 9/4/2017 0:39 AM',\n",
       " 'HARVARD UNIVERSITY 9/4/2017 0:39 AM',\n",
       " 'HARVARD UNIVERSITY 9/4/2017 0:39 AM',\n",
       " 'African and African American Studies Subject: Hausa',\n",
       " ' Hausa AA',\n",
       " 'Elementary Hausa (126307)']"
      ]
     },
     "execution_count": 6,
     "metadata": {},
     "output_type": "execute_result"
    }
   ],
   "source": [
    "data[0:10]"
   ]
  },
  {
   "cell_type": "code",
   "execution_count": 23,
   "metadata": {
    "collapsed": false
   },
   "outputs": [],
   "source": [
    "# strip any spaces from all lines\n",
    "data = [d.strip() for d in data]\n",
    "\n",
    "# remove the page footers\n",
    "PAGE_FOOTERS = (\n",
    "    'HARVARD UNIVERSITY',\n",
    "    '9/4/2017 0:39 AM',\n",
    "    '9/24/2017 0:39 AM',\n",
    "    'HARVARD UNIVERSITY 9/24/2017 0:39 AM'\n",
    ")\n",
    "\n",
    "data = [d for d in data if d not in PAGE_FOOTERS]"
   ]
  },
  {
   "cell_type": "code",
   "execution_count": 25,
   "metadata": {
    "collapsed": false
   },
   "outputs": [
    {
     "data": {
      "text/plain": [
       "['Faculty of Arts and Sciences Course Catalog Preview',\n",
       " 'Table of Contents',\n",
       " 'African and African American Studies Subject: Hausa',\n",
       " 'Hausa AA',\n",
       " 'Elementary Hausa (126307)',\n",
       " 'John Mugane',\n",
       " '2017 Fall (4 Credits)',\n",
       " 'Instructor Permissions: None',\n",
       " 'Schedule: TBD Enrollment Cap: n/a',\n",
       " 'A study of Hausa a most widely used native language and lingua franca in West Africa at the Elementary level (First year part 1). Contact hours supplemented by digital resources. Emphasis on written expression, reading comprehension, and oral fluency. Students must complete both terms of this course (parts AA and AB) within the same academic year in order to receive full Elementary Hausa course credit.',\n",
       " 'Course Notes:',\n",
       " 'Additional Course Attributes:',\n",
       " 'Hausa AB',\n",
       " 'Elementary Hausa (205858)',\n",
       " 'John Mugane',\n",
       " '2018 Spring (4 Credits)',\n",
       " 'Instructor Permissions: None',\n",
       " 'Schedule: TBD Enrollment Cap: n/a',\n",
       " 'Languages in the tutorial program are offered when there is demonstrated curricular or academic need on the part of the student, and when suitable instruction can be arranged. Please contact the department to learn more.',\n",
       " 'Attribute',\n",
       " 'Value(s)',\n",
       " 'FAS: Meets Foreign Lang Req',\n",
       " 'Hausa',\n",
       " 'FAS: Course Level',\n",
       " 'Primarily for Undergraduate Students',\n",
       " 'Full Year Course',\n",
       " 'Indivisible Course',\n",
       " 'FAS Divisional Distribution',\n",
       " 'None',\n",
       " 'All: Cross Reg Availability',\n",
       " 'Available for Harvard Cross Registration',\n",
       " 'A study of Hausa a most widely used native language and lingua franca in West Africa at the Elementary level (First year part 2). Contact hours supplemented by language digital resources. Emphasis on written expression, reading comprehension, and oral fluency. Students must complete both terms of this course (parts AA and AB) within the same academic year in order to receive full Elementary Hausa course credit. This course is offered only in the Spring.',\n",
       " 'Course Notes:',\n",
       " 'Additional Course Attributes:',\n",
       " 'Languages in the tutorial program are offered when there is demonstrated curricular or academic need on the part of the student, and when suitable instruction can be arranged. Please contact the department to learn more.',\n",
       " 'Attribute',\n",
       " 'Value(s)',\n",
       " 'FAS: Course Level',\n",
       " 'Primarily for Undergraduate Students',\n",
       " 'FAS Divisional Distribution',\n",
       " 'None',\n",
       " 'All: Cross Reg Availability',\n",
       " 'Available for Harvard Cross Registration',\n",
       " 'Full Year Course',\n",
       " 'Indivisible Course',\n",
       " 'Course Search Attributes',\n",
       " 'Display Only in Course Search',\n",
       " 'FAS: Meets Foreign Lang Req',\n",
       " 'Hausa',\n",
       " 'Hausa BB',\n",
       " 'Intermediate Hausa (205847)',\n",
       " 'John Mugane',\n",
       " '2018 Spring (4 Credits) Schedule: TBD Instructor Permissions: None Enrollment Cap: n/a',\n",
       " 'A study of Hausa a most widely used native language and lingua franca in West Africa at the Intermediate level (Second year part 2). Contact hours supplemented by digital resources sessions. Emphasis on written expression, reading comprehension, and oral fluency. Students must complete both terms of this course (parts BA and BB) within the same academic year in order to receive full Intermediate Hausa course credit. Students taking Hausa BA in the Spring must note that Hausa BB is offered only in the Spring.',\n",
       " 'Course Notes:',\n",
       " 'Additional Course Attributes:',\n",
       " 'Hausa 101AR',\n",
       " 'Advanced Hausa (205864)',\n",
       " 'John Mugane',\n",
       " '2017 Fall (4 Credits)',\n",
       " 'Instructor Permissions: None',\n",
       " 'Schedule: TBD Enrollment Cap: n/a',\n",
       " 'Languages in the tutorial program are offered when there is demonstrated curricular or academic need on the part of the student, and when suitable instruction can be arranged. Please contact the department to learn more.',\n",
       " 'Attribute',\n",
       " 'Value(s)',\n",
       " 'All: Cross Reg Availability',\n",
       " 'Available for Harvard Cross Registration',\n",
       " 'FAS: Course Level',\n",
       " 'Primarily for Undergraduate Students',\n",
       " 'FAS Divisional Distribution',\n",
       " 'None',\n",
       " 'A study of Hausa a most widely used native language and lingua franca in West Africa at the Advanced level in the Fall semester. As needed, successive advanced readings in Hausa may be taken under Hausa 101ar every Fall.',\n",
       " 'Course Notes:',\n",
       " 'Recommended Prep: Additional Course Attributes:',\n",
       " 'Languages in the tutorial program are offered when there is demonstrated curricular or academic need on the part of the student, and when suitable instruction can be arranged. Please contact the department to learn more.',\n",
       " 'Hausa B or equivalent',\n",
       " 'Attribute',\n",
       " 'Value(s)',\n",
       " 'FAS: Course Level',\n",
       " 'Primarily for Undergraduate Students',\n",
       " 'FAS Divisional Distribution',\n",
       " 'Arts and Humanities',\n",
       " 'All: Cross Reg Availability',\n",
       " 'Available for Harvard Cross Registration',\n",
       " 'Hausa 101BR',\n",
       " 'Advanced Hausa II (205870)',\n",
       " 'John Mugane',\n",
       " '2018 Spring (4 Credits) Schedule: TBD Instructor Permissions: None Enrollment Cap: n/a',\n",
       " 'A study of Hausa a most widely used native language and lingua franca in West Africa at the Advanced level in the Spring semester. As needed, successive advanced readings in Hausa may be taken under Hausa 101br every Spring.',\n",
       " 'Course Notes:',\n",
       " 'Recommended Prep: Additional Course Attributes:',\n",
       " 'Languages in the tutorial program are offered when there is demonstrated curricular or academic need on the part of the student, and when suitable instruction can be arranged. Please contact the department to learn more.',\n",
       " 'Hausa 101ar or equivalent.',\n",
       " 'Attribute',\n",
       " 'Value(s)',\n",
       " 'FAS Divisional Distribution',\n",
       " 'Arts and Humanities',\n",
       " 'All: Cross Reg Availability',\n",
       " 'Available for Harvard Cross Registration',\n",
       " 'FAS: Course Level']"
      ]
     },
     "execution_count": 25,
     "metadata": {},
     "output_type": "execute_result"
    }
   ],
   "source": [
    "data[0:100]"
   ]
  },
  {
   "cell_type": "code",
   "execution_count": 26,
   "metadata": {
    "collapsed": true
   },
   "outputs": [],
   "source": [
    "# dump data to file\n",
    "\n",
    "with open('cleaned_catalog.txt','w') as outfile:\n",
    "    for item in data:\n",
    "        outfile.write(\"%s\\n\" % item)"
   ]
  },
  {
   "cell_type": "code",
   "execution_count": null,
   "metadata": {
    "collapsed": true
   },
   "outputs": [],
   "source": []
  }
 ],
 "metadata": {
  "anaconda-cloud": {},
  "kernelspec": {
   "display_name": "Python [default]",
   "language": "python",
   "name": "python2"
  },
  "language_info": {
   "codemirror_mode": {
    "name": "ipython",
    "version": 2
   },
   "file_extension": ".py",
   "mimetype": "text/x-python",
   "name": "python",
   "nbconvert_exporter": "python",
   "pygments_lexer": "ipython2",
   "version": "2.7.12"
  }
 },
 "nbformat": 4,
 "nbformat_minor": 2
}
