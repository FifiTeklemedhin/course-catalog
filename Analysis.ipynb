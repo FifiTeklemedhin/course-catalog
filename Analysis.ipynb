{
 "cells": [
  {
   "cell_type": "code",
   "execution_count": 37,
   "metadata": {
    "collapsed": true
   },
   "outputs": [],
   "source": [
    "data = None\n",
    "\n",
    "with open('fas_crse_cat.txt', 'r') as f:\n",
    "    raw_content = f.read()\n",
    "    data = f.read().splitlines()"
   ]
  },
  {
   "cell_type": "code",
   "execution_count": 29,
   "metadata": {
    "collapsed": false
   },
   "outputs": [],
   "source": [
    "# strip any spaces from all lines\n",
    "data = [d.strip() for d in data]\n",
    "\n",
    "\n",
    "# remove header lines\n",
    "HEADER_LINES = (\n",
    "    'Faculty of Arts and Sciences Course Catalog Preview',\n",
    "    'Table of Contents'\n",
    ")\n",
    "data = [d for d in data if d not in HEADER_LINES]\n",
    "\n",
    "\n",
    "\n",
    "# remove the page footers\n",
    "PAGE_FOOTERS = (\n",
    "    'HARVARD UNIVERSITY',\n",
    "    '9/4/2017 0:39 AM',\n",
    "    '9/24/2017 0:39 AM',\n",
    "    'HARVARD UNIVERSITY 9/24/2017 0:39 AM'\n",
    ")\n",
    "\n",
    "data = [d for d in data if d not in PAGE_FOOTERS]"
   ]
  },
  {
   "cell_type": "code",
   "execution_count": 30,
   "metadata": {
    "collapsed": false
   },
   "outputs": [
    {
     "data": {
      "text/plain": [
       "['African and African American Studies Subject: Hausa',\n",
       " 'Hausa AA',\n",
       " 'Elementary Hausa (126307)',\n",
       " 'John Mugane',\n",
       " '2017 Fall (4 Credits)',\n",
       " 'Instructor Permissions: None',\n",
       " 'Schedule: TBD Enrollment Cap: n/a',\n",
       " 'A study of Hausa a most widely used native language and lingua franca in West Africa at the Elementary level (First year part 1). Contact hours supplemented by digital resources. Emphasis on written expression, reading comprehension, and oral fluency. Students must complete both terms of this course (parts AA and AB) within the same academic year in order to receive full Elementary Hausa course credit.',\n",
       " 'Course Notes:',\n",
       " 'Additional Course Attributes:',\n",
       " 'Hausa AB',\n",
       " 'Elementary Hausa (205858)',\n",
       " 'John Mugane',\n",
       " '2018 Spring (4 Credits)',\n",
       " 'Instructor Permissions: None',\n",
       " 'Schedule: TBD Enrollment Cap: n/a',\n",
       " 'Languages in the tutorial program are offered when there is demonstrated curricular or academic need on the part of the student, and when suitable instruction can be arranged. Please contact the department to learn more.',\n",
       " 'Attribute',\n",
       " 'Value(s)',\n",
       " 'FAS: Meets Foreign Lang Req',\n",
       " 'Hausa',\n",
       " 'FAS: Course Level',\n",
       " 'Primarily for Undergraduate Students',\n",
       " 'Full Year Course',\n",
       " 'Indivisible Course',\n",
       " 'FAS Divisional Distribution',\n",
       " 'None',\n",
       " 'All: Cross Reg Availability',\n",
       " 'Available for Harvard Cross Registration',\n",
       " 'A study of Hausa a most widely used native language and lingua franca in West Africa at the Elementary level (First year part 2). Contact hours supplemented by language digital resources. Emphasis on written expression, reading comprehension, and oral fluency. Students must complete both terms of this course (parts AA and AB) within the same academic year in order to receive full Elementary Hausa course credit. This course is offered only in the Spring.',\n",
       " 'Course Notes:',\n",
       " 'Additional Course Attributes:',\n",
       " 'Languages in the tutorial program are offered when there is demonstrated curricular or academic need on the part of the student, and when suitable instruction can be arranged. Please contact the department to learn more.',\n",
       " 'Attribute',\n",
       " 'Value(s)',\n",
       " 'FAS: Course Level',\n",
       " 'Primarily for Undergraduate Students',\n",
       " 'FAS Divisional Distribution',\n",
       " 'None',\n",
       " 'All: Cross Reg Availability',\n",
       " 'Available for Harvard Cross Registration',\n",
       " 'Full Year Course',\n",
       " 'Indivisible Course',\n",
       " 'Course Search Attributes',\n",
       " 'Display Only in Course Search',\n",
       " 'FAS: Meets Foreign Lang Req',\n",
       " 'Hausa',\n",
       " 'Hausa BB',\n",
       " 'Intermediate Hausa (205847)',\n",
       " 'John Mugane',\n",
       " '2018 Spring (4 Credits) Schedule: TBD Instructor Permissions: None Enrollment Cap: n/a',\n",
       " 'A study of Hausa a most widely used native language and lingua franca in West Africa at the Intermediate level (Second year part 2). Contact hours supplemented by digital resources sessions. Emphasis on written expression, reading comprehension, and oral fluency. Students must complete both terms of this course (parts BA and BB) within the same academic year in order to receive full Intermediate Hausa course credit. Students taking Hausa BA in the Spring must note that Hausa BB is offered only in the Spring.',\n",
       " 'Course Notes:',\n",
       " 'Additional Course Attributes:',\n",
       " 'Hausa 101AR',\n",
       " 'Advanced Hausa (205864)',\n",
       " 'John Mugane',\n",
       " '2017 Fall (4 Credits)',\n",
       " 'Instructor Permissions: None',\n",
       " 'Schedule: TBD Enrollment Cap: n/a',\n",
       " 'Languages in the tutorial program are offered when there is demonstrated curricular or academic need on the part of the student, and when suitable instruction can be arranged. Please contact the department to learn more.',\n",
       " 'Attribute',\n",
       " 'Value(s)',\n",
       " 'All: Cross Reg Availability',\n",
       " 'Available for Harvard Cross Registration',\n",
       " 'FAS: Course Level',\n",
       " 'Primarily for Undergraduate Students',\n",
       " 'FAS Divisional Distribution',\n",
       " 'None',\n",
       " 'A study of Hausa a most widely used native language and lingua franca in West Africa at the Advanced level in the Fall semester. As needed, successive advanced readings in Hausa may be taken under Hausa 101ar every Fall.',\n",
       " 'Course Notes:',\n",
       " 'Recommended Prep: Additional Course Attributes:',\n",
       " 'Languages in the tutorial program are offered when there is demonstrated curricular or academic need on the part of the student, and when suitable instruction can be arranged. Please contact the department to learn more.',\n",
       " 'Hausa B or equivalent',\n",
       " 'Attribute',\n",
       " 'Value(s)',\n",
       " 'FAS: Course Level',\n",
       " 'Primarily for Undergraduate Students',\n",
       " 'FAS Divisional Distribution',\n",
       " 'Arts and Humanities',\n",
       " 'All: Cross Reg Availability',\n",
       " 'Available for Harvard Cross Registration',\n",
       " 'Hausa 101BR',\n",
       " 'Advanced Hausa II (205870)',\n",
       " 'John Mugane',\n",
       " '2018 Spring (4 Credits) Schedule: TBD Instructor Permissions: None Enrollment Cap: n/a',\n",
       " 'A study of Hausa a most widely used native language and lingua franca in West Africa at the Advanced level in the Spring semester. As needed, successive advanced readings in Hausa may be taken under Hausa 101br every Spring.',\n",
       " 'Course Notes:',\n",
       " 'Recommended Prep: Additional Course Attributes:',\n",
       " 'Languages in the tutorial program are offered when there is demonstrated curricular or academic need on the part of the student, and when suitable instruction can be arranged. Please contact the department to learn more.',\n",
       " 'Hausa 101ar or equivalent.',\n",
       " 'Attribute',\n",
       " 'Value(s)',\n",
       " 'FAS Divisional Distribution',\n",
       " 'Arts and Humanities',\n",
       " 'All: Cross Reg Availability',\n",
       " 'Available for Harvard Cross Registration',\n",
       " 'FAS: Course Level',\n",
       " 'For Undergraduate and Graduate Students',\n",
       " 'Subject: African & African Amer Studies']"
      ]
     },
     "execution_count": 30,
     "metadata": {},
     "output_type": "execute_result"
    }
   ],
   "source": [
    "data[0:100]"
   ]
  },
  {
   "cell_type": "code",
   "execution_count": 31,
   "metadata": {
    "collapsed": true
   },
   "outputs": [],
   "source": [
    "# courses are marked by e.g.\n",
    "\n",
    "\"\"\"\n",
    "Hausa 101BR\n",
    "Advanced Hausa II (205870)\n",
    "John Mugane\n",
    "\"\"\"\n",
    "# \n",
    "# .* \\(\\d{6}\\)"
   ]
  },
  {
   "cell_type": "code",
   "execution_count": null,
   "metadata": {
    "collapsed": true
   },
   "outputs": [],
   "source": []
  },
  {
   "cell_type": "code",
   "execution_count": null,
   "metadata": {
    "collapsed": true
   },
   "outputs": [],
   "source": []
  },
  {
   "cell_type": "code",
   "execution_count": null,
   "metadata": {
    "collapsed": true
   },
   "outputs": [],
   "source": []
  },
  {
   "cell_type": "code",
   "execution_count": null,
   "metadata": {
    "collapsed": true
   },
   "outputs": [],
   "source": []
  },
  {
   "cell_type": "code",
   "execution_count": 32,
   "metadata": {
    "collapsed": true
   },
   "outputs": [],
   "source": [
    "# dump data to file\n",
    "\n",
    "with open('cleaned_catalog.txt','w') as outfile:\n",
    "    for item in data:\n",
    "        outfile.write(\"%s\\n\" % item)"
   ]
  },
  {
   "cell_type": "code",
   "execution_count": 33,
   "metadata": {
    "collapsed": true
   },
   "outputs": [],
   "source": [
    "import pdfminer"
   ]
  },
  {
   "cell_type": "code",
   "execution_count": 34,
   "metadata": {
    "collapsed": false
   },
   "outputs": [
    {
     "data": {
      "text/plain": [
       "<module 'pdfminer' from '/Users/neel/usr/anaconda2/lib/python2.7/site-packages/pdfminer/__init__.pyc'>"
      ]
     },
     "execution_count": 34,
     "metadata": {},
     "output_type": "execute_result"
    }
   ],
   "source": [
    "pdfminer"
   ]
  },
  {
   "cell_type": "code",
   "execution_count": 36,
   "metadata": {
    "collapsed": false
   },
   "outputs": [],
   "source": [
    "from bs4 import BeautifulSoup"
   ]
  },
  {
   "cell_type": "code",
   "execution_count": 41,
   "metadata": {
    "collapsed": true
   },
   "outputs": [],
   "source": [
    "raw_content\n",
    "\n",
    "with open('fas_crse_cat.html', 'r') as f:\n",
    "    raw_content = f.read()\n",
    "    \n",
    "soup = BeautifulSoup(raw_content, 'html.parser')"
   ]
  },
  {
   "cell_type": "code",
   "execution_count": 49,
   "metadata": {
    "collapsed": false,
    "scrolled": true
   },
   "outputs": [
    {
     "name": "stdout",
     "output_type": "stream",
     "text": [
      "<div class=\"t m0 x0 h2 y1 ff1 fs0 fc0 sc0 ls0 ws0\">HARVARD UNIVERSITY</div>\n",
      "<div class=\"t m0 x1 h3 y2 ff1 fs0 fc0 sc0 ls0 ws0\">Page <span class=\"ff2\">1</span> of <span class=\"ff2\">3603</span></div>\n",
      "<div class=\"t m0 x2 h2 y1 ff1 fs0 fc0 sc0 ls0 ws0\">9/4/2017 0:39 AM</div>\n",
      "<div class=\"t m0 x0 h4 y3 ff1 fs1 fc0 sc0 ls0 ws0\">Faculty of Arts and Sciences</div>\n",
      "<div class=\"t m0 x0 h4 y4 ff1 fs1 fc0 sc0 ls1 ws0\">Course Catalog Preview</div>\n",
      "<div class=\"t m0 x0 h5 y5 ff3 fs2 fc1 sc0 ls2 ws0\">Table of Contents</div>\n",
      "<div class=\"t m0 x0 h6 y6 ff1 fs3 fc2 sc0 ls0 ws0\">African and African American Studies.....................................................................................................................................<span class=\"_ _0\"></span>6</div>\n",
      "<div class=\"t m0 x3 h6 y7 ff1 fs3 fc2 sc0 ls0 ws0\">Subject: Hausa.....................................................................................................................................................................<span class=\"_ _1\"></span>6</div>\n",
      "<div class=\"t m0 x3 h6 y8 ff1 fs3 fc2 sc0 ls0 ws0\">Subject: African &amp; African Amer Studies..............................................................................................................................<span class=\"_ _1\"></span>8</div>\n",
      "<div class=\"t m0 x3 h6 y9 ff1 fs3 fc2 sc0 ls0 ws0\">Subject: Igbo....................................................................................................................................................................<span class=\"_ _0\"></span>162</div>\n",
      "<div class=\"t m0 x3 h6 ya ff1 fs3 fc2 sc0 ls0 ws0\">Subject: Swahili................................................................................................................................................................<span class=\"_ _1\"></span>165</div>\n",
      "<div class=\"t m0 x3 h6 yb ff1 fs3 fc2 sc0 ls0 ws0\">Subject: Yoruba...............................................................................................................................................................<span class=\"_ _2\"></span>168</div>\n",
      "<div class=\"t m0 x3 h6 yc ff1 fs3 fc2 sc0 ls0 ws0\">Subject: Twi.....................................................................................................................................................................<span class=\"_ _2\"></span>171</div>\n",
      "<div class=\"t m0 x3 h6 yd ff1 fs3 fc2 sc0 ls0 ws0\">Subject: Gikuyu................................................................................................................................................................<span class=\"_ _3\"></span>174</div>\n",
      "<div class=\"t m0 x3 h6 ye ff1 fs3 fc2 sc0 ls0 ws0\">Subject: Cameroon..........................................................................................................................................................<span class=\"_ _4\"></span>177</div>\n",
      "<div class=\"t m0 x3 h6 yf ff1 fs3 fc2 sc0 ls0 ws0\">Subject: Sudanese...........................................................................................................................................................<span class=\"_ _3\"></span>180</div>\n",
      "<div class=\"t m0 x3 h6 y10 ff1 fs3 fc2 sc0 ls0 ws0\">Subject: Jamaican............................................................................................................................................................<span class=\"_ _1\"></span>183</div>\n",
      "<div class=\"t m0 x3 h6 y11 ff1 fs3 fc2 sc0 ls0 ws0\">Subject: Haitian................................................................................................................................................................<span class=\"_ _3\"></span>186</div>\n",
      "<div class=\"t m0 x3 h6 y12 ff1 fs3 fc2 sc0 ls0 ws0\">Subject: Afrikaan..............................................................................................................................................................<span class=\"_ _3\"></span>189</div>\n",
      "<div class=\"t m0 x3 h6 y13 ff1 fs3 fc2 sc0 ls0 ws0\">Subject: Zulu....................................................................................................................................................................<span class=\"_ _0\"></span>190</div>\n",
      "<div class=\"t m0 x3 h6 y14 ff1 fs3 fc2 sc0 ls0 ws0\">Subject: West African Pidgin............................................................................................................................................<span class=\"_ _1\"></span>193</div>\n",
      "<div class=\"t m0 x3 h6 y15 ff1 fs3 fc2 sc0 ls0 ws0\">Subject: Tigrinya..............................................................................................................................................................<span class=\"_ _4\"></span>196</div>\n",
      "<div class=\"t m0 x3 h6 y16 ff1 fs3 fc2 sc0 ls0 ws0\">Subject: Amharic..............................................................................................................................................................<span class=\"_ _3\"></span>199</div>\n",
      "<div class=\"t m0 x0 h6 y17 ff1 fs3 fc2 sc0 ls0 ws0\">American Studies................................................................................................................................................................<span class=\"_ _2\"></span>203</div>\n",
      "<div class=\"t m0 x3 h6 y18 ff1 fs3 fc2 sc0 ls0 ws0\">Subject: American Studies...............................................................................................................................................<span class=\"_ _3\"></span>203</div>\n",
      "<div class=\"t m0 x0 h6 y19 ff1 fs3 fc2 sc0 ls0 ws0\">Anthropology.......................................................................................................................................................................<span class=\"_ _2\"></span>238</div>\n",
      "<div class=\"t m0 x3 h6 y1a ff1 fs3 fc2 sc0 ls0 ws0\">Subject: Anthropology......................................................................................................................................................<span class=\"_ _3\"></span>238</div>\n",
      "<div class=\"t m0 x0 h6 y1b ff1 fs3 fc2 sc0 ls0 ws0\">Applied Computation...........................................................................................................................................................<span class=\"_ _4\"></span>331</div>\n",
      "<div class=\"t m0 x3 h6 y1c ff1 fs3 fc2 sc0 ls0 ws0\">Subject: Applied Computation..........................................................................................................................................<span class=\"_ _1\"></span>331</div>\n",
      "<div class=\"t m0 x0 h6 y1d ff1 fs3 fc2 sc0 ls0 ws0\">Applied Mathematics...........................................................................................................................................................<span class=\"_ _4\"></span>336</div>\n",
      "<div class=\"t m0 x3 h6 y1e ff1 fs3 fc2 sc0 ls0 ws0\">Subject: Applied Mathematics..........................................................................................................................................<span class=\"_ _1\"></span>336</div>\n",
      "<div class=\"t m0 x0 h6 y1f ff1 fs3 fc2 sc0 ls0 ws0\">Applied Physics...................................................................................................................................................................<span class=\"_ _4\"></span>355</div>\n",
      "<div class=\"t m0 x3 h6 y20 ff1 fs3 fc2 sc0 ls0 ws0\">Subject: Applied Physics..................................................................................................................................................<span class=\"_ _1\"></span>355</div>\n",
      "<div class=\"t m0 x0 h6 y21 ff1 fs3 fc2 sc0 ls0 ws0\">Architecture, Landscape Arch, and Urban Planning............................................................................................................<span class=\"_ _1\"></span>381</div>\n",
      "<div class=\"t m0 x3 h6 y22 ff1 fs3 fc2 sc0 ls0 ws0\">Subject: Design................................................................................................................................................................<span class=\"_ _3\"></span>381</div>\n",
      "<div class=\"t m0 x0 h6 y23 ff1 fs3 fc2 sc0 ls0 ws0\">Astronomy...........................................................................................................................................................................<span class=\"_ _2\"></span>400</div>\n",
      "<div class=\"t m0 x3 h6 y24 ff1 fs3 fc2 sc0 ls0 ws0\">Subject: Astronomy..........................................................................................................................................................<span class=\"_ _3\"></span>400</div>\n",
      "<div class=\"t m0 x0 h6 y25 ff1 fs3 fc2 sc0 ls0 ws0\">Biological Sciences in Dental Medicine...............................................................................................................................<span class=\"_ _0\"></span>428</div>\n",
      "<div class=\"t m0 x3 h6 y26 ff1 fs3 fc2 sc0 ls0 ws0\">Subject: Bio Sciences in Dental Med...............................................................................................................................<span class=\"_ _0\"></span>428</div>\n",
      "<div class=\"t m0 x0 h6 y27 ff1 fs3 fc2 sc0 ls0 ws0\">Biological Sciences in Public Health....................................................................................................................................<span class=\"_ _1\"></span>429</div>\n",
      "<div class=\"t m0 x3 h6 y28 ff1 fs3 fc2 sc0 ls0 ws0\">Subject: Biological Sci in Public Hlth................................................................................................................................<span class=\"_ _1\"></span>429</div>\n",
      "<div class=\"t m0 x0 h6 y29 ff1 fs3 fc2 sc0 ls0 ws0\">Biomedical Engineering.......................................................................................................................................................<span class=\"_ _3\"></span>459</div>\n",
      "<div class=\"t m0 x3 h6 y2a ff1 fs3 fc2 sc0 ls0 ws0\">Subject: Biomedical Engineering.....................................................................................................................................<span class=\"_ _4\"></span>459</div>\n",
      "<div class=\"t m0 x0 h6 y2b ff1 fs3 fc2 sc0 ls0 ws0\">Biophysics...........................................................................................................................................................................<span class=\"_ _2\"></span>462</div>\n",
      "<div class=\"t m0 x3 h6 y2c ff1 fs3 fc2 sc0 ls0 ws0\">Subject: Biophysics..........................................................................................................................................................<span class=\"_ _3\"></span>462</div>\n",
      "<div class=\"t m0 x0 h6 y2d ff1 fs3 fc2 sc0 ls0 ws0\">Biostatistics..........................................................................................................................................................................<span class=\"_ _1\"></span>514</div>\n",
      "<div class=\"t m0 x3 h6 y2e ff1 fs3 fc2 sc0 ls0 ws0\">Subject: Biostatistics........................................................................................................................................................<span class=\"_ _0\"></span>514</div>\n",
      "<div class=\"t m0 x0 h6 y2f ff1 fs3 fc2 sc0 ls0 ws0\">Celtic Languages and Literatures........................................................................................................................................<span class=\"_ _3\"></span>543</div>\n",
      "<div class=\"t m0 x3 h6 y30 ff1 fs3 fc2 sc0 ls0 ws0\">Subject: Irish....................................................................................................................................................................<span class=\"_ _4\"></span>543</div>\n",
      "<div class=\"t m0 x3 h6 y31 ff1 fs3 fc2 sc0 ls0 ws0\">Subject: Celtic..................................................................................................................................................................<span class=\"_ _0\"></span>544</div>\n",
      "<div class=\"t m0 x3 h6 y32 ff1 fs3 fc2 sc0 ls0 ws0\">Subject: Welsh.................................................................................................................................................................<span class=\"_ _0\"></span>549</div>\n",
      "<div class=\"t m0 x3 h6 y33 ff1 fs3 fc2 sc0 ls0 ws0\">Subject: Scottish Gaelic...................................................................................................................................................<span class=\"_ _0\"></span>550</div>\n",
      "<div class=\"t m0 x0 h6 y34 ff1 fs3 fc2 sc0 ls0 ws0\">Chemical and Physical Biology...........................................................................................................................................<span class=\"_ _2\"></span>552</div>\n",
      "<div class=\"t m0 x3 h6 y35 ff1 fs3 fc2 sc0 ls0 ws0\">Subject: Chemical and Physical Biology..........................................................................................................................<span class=\"_ _3\"></span>552</div>\n",
      "<div class=\"t m0 x0 h6 y36 ff1 fs3 fc2 sc0 ls0 ws0\">Chemical Biology.................................................................................................................................................................<span class=\"_ _3\"></span>555</div>\n",
      "<div class=\"t m0 x3 h6 y37 ff1 fs3 fc2 sc0 ls0 ws0\">Subject: Chemical Biology...............................................................................................................................................<span class=\"_ _4\"></span>555</div>\n",
      "<div class=\"t m0 x0 h2 y1 ff1 fs0 fc0 sc0 ls0 ws0\">HARVARD UNIVERSITY</div>\n",
      "<div class=\"t m0 x1 h3 y2 ff1 fs0 fc0 sc0 ls0 ws0\">Page <span class=\"ff2\">2</span> of <span class=\"ff2\">3603</span></div>\n",
      "<div class=\"t m0 x2 h2 y1 ff1 fs0 fc0 sc0 ls0 ws0\">9/4/2017 0:39 AM</div>\n",
      "<div class=\"t m0 x0 h6 y39 ff1 fs3 fc2 sc0 ls0 ws0\">Chemistry and Chemical Biology.........................................................................................................................................<span class=\"_ _1\"></span>579</div>\n",
      "<div class=\"t m0 x3 h6 y3a ff1 fs3 fc2 sc0 ls0 ws0\">Subject: Chemistry...........................................................................................................................................................<span class=\"_ _3\"></span>579</div>\n",
      "<div class=\"t m0 x3 h6 y3b ff1 fs3 fc2 sc0 ls0 ws0\">Subject: Physical Sciences..............................................................................................................................................<span class=\"_ _0\"></span>609</div>\n",
      "<div class=\"t m0 x3 h6 y3c ff1 fs3 fc2 sc0 ls0 ws0\">Subject: Life &amp; Physical Sciences....................................................................................................................................<span class=\"_ _3\"></span>611</div>\n",
      "<div class=\"t m0 x0 h6 y3d ff1 fs3 fc2 sc0 ls0 ws0\">Classics, The.......................................................................................................................................................................<span class=\"_ _0\"></span>613</div>\n",
      "<div class=\"t m0 x3 h6 y3e ff1 fs3 fc2 sc0 ls0 ws0\">Subject: Greek.................................................................................................................................................................<span class=\"_ _4\"></span>613</div>\n",
      "<div class=\"t m0 x3 h6 y3f ff1 fs3 fc2 sc0 ls0 ws0\">Subject: Modern Greek....................................................................................................................................................<span class=\"_ _0\"></span>619</div>\n",
      "<div class=\"t m0 x3 h6 y40 ff1 fs3 fc2 sc0 ls0 ws0\">Subject: Latin...................................................................................................................................................................<span class=\"_ _4\"></span>622</div>\n",
      "<div class=\"t m0 x3 h6 y41 ff1 fs3 fc2 sc0 ls0 ws0\">Subject: Medieval Latin....................................................................................................................................................<span class=\"_ _3\"></span>630</div>\n",
      "<div class=\"t m0 x3 h6 y42 ff1 fs3 fc2 sc0 ls0 ws0\">Subject: Classics..............................................................................................................................................................<span class=\"_ _1\"></span>631</div>\n",
      "<div class=\"t m0 x3 h6 y43 ff1 fs3 fc2 sc0 ls0 ws0\">Subject: Classical Studies................................................................................................................................................<span class=\"_ _1\"></span>665</div>\n",
      "<div class=\"t m0 x3 h6 y44 ff1 fs3 fc2 sc0 ls0 ws0\">Subject: Classical Archaeology........................................................................................................................................<span class=\"_ _1\"></span>669</div>\n",
      "<div class=\"t m0 x3 h6 y45 ff1 fs3 fc2 sc0 ls0 ws0\">Subject: Classical Philology.............................................................................................................................................<span class=\"_ _0\"></span>670</div>\n",
      "<div class=\"t m0 x3 h6 y46 ff1 fs3 fc2 sc0 ls0 ws0\">Subject: Medieval Greek..................................................................................................................................................<span class=\"_ _3\"></span>671</div>\n",
      "<div class=\"t m0 x0 h6 y47 ff1 fs3 fc2 sc0 ls0 ws0\">Comparative Literature........................................................................................................................................................<span class=\"_ _0\"></span>673</div>\n",
      "<div class=\"t m0 x3 h6 y48 ff1 fs3 fc2 sc0 ls0 ws0\">Subject: Comparative Literature......................................................................................................................................<span class=\"_ _2\"></span>673</div>\n",
      "<div class=\"t m0 x0 h6 y49 ff1 fs3 fc2 sc0 ls0 ws0\">Computer Science...............................................................................................................................................................<span class=\"_ _0\"></span>729</div>\n",
      "<div class=\"t m0 x3 h6 y4a ff1 fs3 fc2 sc0 ls0 ws0\">Subject: Computer Science.............................................................................................................................................<span class=\"_ _2\"></span>729</div>\n",
      "<div class=\"t m0 x0 h6 y4b ff1 fs3 fc2 sc0 ls0 ws0\">Earth and Planetary Sciences.............................................................................................................................................<span class=\"_ _4\"></span>775</div>\n",
      "<div class=\"t m0 x3 h6 y4c ff1 fs3 fc2 sc0 ls0 ws0\">Subject: Earth &amp; Planetary Sciences...............................................................................................................................<span class=\"_ _4\"></span>775</div>\n",
      "<div class=\"t m0 x0 h6 y4d ff1 fs3 fc2 sc0 ls0 ws0\">East Asian Languages and Civilizations..............................................................................................................................<span class=\"_ _1\"></span>815</div>\n",
      "<div class=\"t m0 x3 h6 y4e ff1 fs3 fc2 sc0 ls0 ws0\">Subject: Manchu..............................................................................................................................................................<span class=\"_ _4\"></span>815</div>\n",
      "<div class=\"t m0 x3 h6 y4f ff1 fs3 fc2 sc0 ls0 ws0\">Subject: East Asian Studies.............................................................................................................................................<span class=\"_ _3\"></span>816</div>\n",
      "<div class=\"t m0 x3 h6 y50 ff1 fs3 fc2 sc0 ls0 ws0\">Subject: Chinese Literature..............................................................................................................................................<span class=\"_ _1\"></span>823</div>\n",
      "<div class=\"t m0 x3 h6 y51 ff1 fs3 fc2 sc0 ls0 ws0\">Subject: Chinese..............................................................................................................................................................<span class=\"_ _3\"></span>825</div>\n",
      "<div class=\"t m0 x3 h6 y52 ff1 fs3 fc2 sc0 ls0 ws0\">Subject: Japanese...........................................................................................................................................................<span class=\"_ _2\"></span>854</div>\n",
      "<div class=\"t m0 x3 h6 y53 ff1 fs3 fc2 sc0 ls0 ws0\">Subject: Korean History...................................................................................................................................................<span class=\"_ _4\"></span>868</div>\n",
      "<div class=\"t m0 x3 h6 y54 ff1 fs3 fc2 sc0 ls0 ws0\">Subject: Mongolian..........................................................................................................................................................<span class=\"_ _2\"></span>871</div>\n",
      "<div class=\"t m0 x3 h6 y55 ff1 fs3 fc2 sc0 ls0 ws0\">Subject: Korean...............................................................................................................................................................<span class=\"_ _2\"></span>871</div>\n",
      "<div class=\"t m0 x3 h6 y56 ff1 fs3 fc2 sc0 ls0 ws0\">Subject: Vietnamese........................................................................................................................................................<span class=\"_ _0\"></span>880</div>\n",
      "<div class=\"t m0 x3 h6 y57 ff1 fs3 fc2 sc0 ls0 ws0\">Subject: Uyghur...............................................................................................................................................................<span class=\"_ _2\"></span>884</div>\n",
      "<div class=\"t m0 x3 h6 y58 ff1 fs3 fc2 sc0 ls0 ws0\">Subject: E Asian Film &amp; Media Studies............................................................................................................................<span class=\"_ _1\"></span>885</div>\n",
      "<div class=\"t m0 x3 h6 y59 ff1 fs3 fc2 sc0 ls0 ws0\">Subject: Japanese History...............................................................................................................................................<span class=\"_ _4\"></span>890</div>\n",
      "<div class=\"t m0 x3 h6 y5a ff1 fs3 fc2 sc0 ls0 ws0\">Subject: East Asian Buddhist Studies..............................................................................................................................<span class=\"_ _3\"></span>892</div>\n",
      "<div class=\"t m0 x3 h6 y5b ff1 fs3 fc2 sc0 ls0 ws0\">Subject: Korean Literature...............................................................................................................................................<span class=\"_ _4\"></span>894</div>\n",
      "<div class=\"t m0 x3 h6 y5c ff1 fs3 fc2 sc0 ls0 ws0\">Subject: Japanese Literature...........................................................................................................................................<span class=\"_ _4\"></span>895</div>\n",
      "<div class=\"t m0 x3 h6 y5d ff1 fs3 fc2 sc0 ls0 ws0\">Subject: Chinese History..................................................................................................................................................<span class=\"_ _1\"></span>896</div>\n",
      "<div class=\"t m0 x0 h6 y5e ff1 fs3 fc2 sc0 ls0 ws0\">Economics...........................................................................................................................................................................<span class=\"_ _0\"></span>900</div>\n",
      "<div class=\"t m0 x3 h6 y5f ff1 fs3 fc2 sc0 ls0 ws0\">Subject: Economics.........................................................................................................................................................<span class=\"_ _2\"></span>900</div>\n",
      "<div class=\"t m0 x0 h6 y60 ff1 fs3 fc2 sc0 ls0 ws0\">Engineering Sciences..........................................................................................................................................................<span class=\"_ _3\"></span>988</div>\n",
      "<div class=\"t m0 x3 h6 y61 ff1 fs3 fc2 sc0 ls0 ws0\">Subject: Engineering Sciences........................................................................................................................................<span class=\"_ _4\"></span>988</div>\n"
     ]
    }
   ],
   "source": [
    "# all content will be in div.t\n",
    "# so extract this\n",
    "elts = soup.find_all('div', class_='t')"
   ]
  },
  {
   "cell_type": "code",
   "execution_count": 46,
   "metadata": {
    "collapsed": false
   },
   "outputs": [
    {
     "data": {
      "text/plain": [
       "[<div class=\"t m0 x0 h2 y1 ff1 fs0 fc0 sc0 ls0 ws0\">HARVARD UNIVERSITY</div>,\n",
       " <div class=\"t m0 x1 h3 y2 ff1 fs0 fc0 sc0 ls0 ws0\">Page <span class=\"ff2\">1</span> of <span class=\"ff2\">3603</span></div>,\n",
       " <div class=\"t m0 x2 h2 y1 ff1 fs0 fc0 sc0 ls0 ws0\">9/4/2017 0:39 AM</div>,\n",
       " <div class=\"t m0 x0 h4 y3 ff1 fs1 fc0 sc0 ls0 ws0\">Faculty of Arts and Sciences</div>,\n",
       " <div class=\"t m0 x0 h4 y4 ff1 fs1 fc0 sc0 ls1 ws0\">Course Catalog Preview</div>,\n",
       " <div class=\"t m0 x0 h5 y5 ff3 fs2 fc1 sc0 ls2 ws0\">Table of Contents</div>,\n",
       " <div class=\"t m0 x0 h6 y6 ff1 fs3 fc2 sc0 ls0 ws0\">African and African American Studies.....................................................................................................................................<span class=\"_ _0\"></span>6</div>,\n",
       " <div class=\"t m0 x3 h6 y7 ff1 fs3 fc2 sc0 ls0 ws0\">Subject: Hausa.....................................................................................................................................................................<span class=\"_ _1\"></span>6</div>,\n",
       " <div class=\"t m0 x3 h6 y8 ff1 fs3 fc2 sc0 ls0 ws0\">Subject: African &amp; African Amer Studies..............................................................................................................................<span class=\"_ _1\"></span>8</div>,\n",
       " <div class=\"t m0 x3 h6 y9 ff1 fs3 fc2 sc0 ls0 ws0\">Subject: Igbo....................................................................................................................................................................<span class=\"_ _0\"></span>162</div>]"
      ]
     },
     "execution_count": 46,
     "metadata": {},
     "output_type": "execute_result"
    }
   ],
   "source": [
    "lst[0:10]"
   ]
  },
  {
   "cell_type": "code",
   "execution_count": 51,
   "metadata": {
    "collapsed": false,
    "scrolled": true
   },
   "outputs": [],
   "source": [
    "headings = soup.find_all('div', class_='fs2')"
   ]
  },
  {
   "cell_type": "code",
   "execution_count": 71,
   "metadata": {
    "collapsed": false,
    "scrolled": true
   },
   "outputs": [],
   "source": [
    "# the .fs2 will be the title\n",
    "# following .fs3 will be descriptive strings\n",
    "\n",
    "groups = []\n",
    "current_group = None\n",
    "\n",
    "for elt in elts:    \n",
    "    if 'fs2' in elt['class']:\n",
    "        # .fs2 marks course titles\n",
    "        \n",
    "        # first, ensure there's something actually here\n",
    "        # FIXME could be bugs here from page breaks\n",
    "        if elt.string is None:\n",
    "            continue\n",
    "        \n",
    "        # start a new group\n",
    "        current_group = dict()\n",
    "        groups.append(current_group)\n",
    "        \n",
    "        current_group['name'] = elt.string\n",
    "        current_group['strings'] = []\n",
    "    elif elt is not None:\n",
    "        # these are probably .fs{3,4,5,...}\n",
    "        # these are descriptive strings\n",
    "        \n",
    "        # error checking\n",
    "        if current_group is None:\n",
    "            continue\n",
    "        if elt.string is None:\n",
    "            continue\n",
    "            \n",
    "        # remove page footers\n",
    "        BANNED_STRINGS = (\n",
    "            'HARVARD UNIVERSITY',\n",
    "            '9/4/2017 0:39 AM',\n",
    "            '9/24/2017 0:39 AM',\n",
    "            'HARVARD UNIVERSITY 9/24/2017 0:39 AM'\n",
    "        )\n",
    "        if elt.string in BANNED_STRINGS:\n",
    "            continue\n",
    "            \n",
    "        current_group['strings'].append(elt.string)"
   ]
  },
  {
   "cell_type": "code",
   "execution_count": 72,
   "metadata": {
    "collapsed": false,
    "scrolled": true
   },
   "outputs": [
    {
     "data": {
      "text/plain": [
       "[{'name': u'Table of Contents',\n",
       "  'strings': [u'African and African American Studies']},\n",
       " {'name': u'Subject: Hausa', 'strings': []},\n",
       " {'name': u'Hausa     AA ',\n",
       "  'strings': [u'John Mugane  ',\n",
       "   u'2017 Fall (4 Credits)',\n",
       "   u'Schedule: ',\n",
       "   u'TBD',\n",
       "   u'Instructor Permissions:',\n",
       "   u'None',\n",
       "   u'Enrollment Cap:',\n",
       "   u'n/a',\n",
       "   u'A study of Hausa a most widely used native language and lingua franca in West Africa at the Elementary level (First',\n",
       "   u'year part 1). Contact hours supplemented by digital resources. Emphasis on written expression, reading ',\n",
       "   u'comprehension, and oral fluency. Students must complete both terms of this course (parts AA and AB) within the ',\n",
       "   u'same academic year in order to receive full Elementary Hausa course credit.',\n",
       "   u'Course Notes:',\n",
       "   u'Languages in the tutorial program are offered when there is demonstrated ',\n",
       "   u'curricular or academic need on the part of the student, and when suitable ',\n",
       "   u'instruction can be arranged.  Please contact the department to learn more.',\n",
       "   u'Additional Course Attributes:',\n",
       "   u' ',\n",
       "   u' ']},\n",
       " {'name': u'Hausa     AB ',\n",
       "  'strings': [u'John Mugane  ',\n",
       "   u'2018 Spring (4 Credits)',\n",
       "   u'Schedule: ',\n",
       "   u'TBD',\n",
       "   u'Instructor Permissions:',\n",
       "   u'None',\n",
       "   u'Enrollment Cap:',\n",
       "   u'n/a',\n",
       "   u'A study of Hausa a most widely used native language and lingua franca in West Africa at the Elementary level (First',\n",
       "   u'year part 2). Contact hours supplemented by language digital resources. Emphasis on written expression, reading ',\n",
       "   u'comprehension, and oral fluency. Students must complete both terms of this course (parts AA and AB) within the ',\n",
       "   u'same academic year in order to receive full Elementary Hausa course credit. This course is offered only in the ',\n",
       "   u'Spring.',\n",
       "   u'Course Notes:',\n",
       "   u'Languages in the tutorial program are offered when there is demonstrated ',\n",
       "   u'curricular or academic need on the part of the student, and when suitable ',\n",
       "   u'instruction can be arranged.  Please contact the department to learn more.',\n",
       "   u'Additional Course Attributes:']},\n",
       " {'name': u'Hausa     BB ',\n",
       "  'strings': [u'John Mugane  ',\n",
       "   u'2018 Spring (4 Credits)',\n",
       "   u'Schedule: ',\n",
       "   u'TBD',\n",
       "   u'Instructor Permissions:',\n",
       "   u'None',\n",
       "   u'Enrollment Cap:',\n",
       "   u'n/a',\n",
       "   u'A study of Hausa a most widely used native language and lingua franca in West Africa at the Intermediate level ',\n",
       "   u'(Second year part 2). Contact hours supplemented by digital resources sessions. Emphasis on written expression, ',\n",
       "   u'reading comprehension, and oral fluency. Students must complete both terms of this course (parts BA and BB) ',\n",
       "   u'within the same academic year in order to receive full Intermediate Hausa course credit. Students taking Hausa BA ',\n",
       "   u'in the Spring must note that Hausa BB is offered only in the Spring.  ',\n",
       "   u'Course Notes:',\n",
       "   u'Languages in the tutorial program are offered when there is demonstrated ',\n",
       "   u'curricular or academic need on the part of the student, and when suitable ',\n",
       "   u'instruction can be arranged.  Please contact the department to learn more.',\n",
       "   u'Additional Course Attributes:']},\n",
       " {'name': u'Hausa  101AR ',\n",
       "  'strings': [u'Advanced Hausa',\n",
       "   u'John Mugane  ',\n",
       "   u'2017 Fall (4 Credits)',\n",
       "   u'Schedule: ',\n",
       "   u'TBD',\n",
       "   u'Instructor Permissions:',\n",
       "   u'None',\n",
       "   u'Enrollment Cap:',\n",
       "   u'n/a',\n",
       "   u'A study of Hausa a most widely used native language and lingua franca in West Africa at the Advanced level in the ',\n",
       "   u'Fall semester. As needed, successive advanced readings in Hausa may be taken under Hausa 101ar every Fall.',\n",
       "   u'Course Notes:',\n",
       "   u'Languages in the tutorial program are offered when there is demonstrated ',\n",
       "   u'curricular or academic need on the part of the student, and when suitable ',\n",
       "   u'instruction can be arranged.  Please contact the department to learn more.',\n",
       "   u'Recommended Prep:',\n",
       "   u'Hausa B or equivalent',\n",
       "   u'Additional Course Attributes:',\n",
       "   u' ',\n",
       "   u' ']},\n",
       " {'name': u'Hausa  101BR ',\n",
       "  'strings': [u'John Mugane  ',\n",
       "   u'2018 Spring (4 Credits)',\n",
       "   u'Schedule: ',\n",
       "   u'TBD',\n",
       "   u'Instructor Permissions:',\n",
       "   u'None',\n",
       "   u'Enrollment Cap:',\n",
       "   u'n/a',\n",
       "   u'A study of Hausa a most widely used native language and lingua franca in West Africa at the Advanced level in the ',\n",
       "   u'Spring semester. As needed, successive advanced readings in Hausa may be taken under Hausa 101br every ',\n",
       "   u'Spring.',\n",
       "   u'Course Notes:',\n",
       "   u'Languages in the tutorial program are offered when there is demonstrated ',\n",
       "   u'curricular or academic need on the part of the student, and when suitable ',\n",
       "   u'instruction can be arranged.  Please contact the department to learn more.',\n",
       "   u'Recommended Prep:',\n",
       "   u'Hausa 101ar or equivalent.',\n",
       "   u'Additional Course Attributes:']},\n",
       " {'name': u'Subject: African & African Amer Studies', 'strings': [u' ', u' ']},\n",
       " {'name': u'African & African Amer Studies   10 ',\n",
       "  'strings': [u'Henry Gates  ',\n",
       "   u'Lawrence Bobo  ',\n",
       "   u'2018 Spring (4 Credits)',\n",
       "   u'Schedule: ',\n",
       "   u'MW 1100 AM - 1159 AM',\n",
       "   u'Instructor Permissions:',\n",
       "   u'None',\n",
       "   u'Enrollment Cap:',\n",
       "   u'n/a',\n",
       "   u'An exploration of some of the key texts and issues in African American Studies from a range of disciplinary ',\n",
       "   u'perspectives. Members of the faculty deliver guest lectures in their own areas of specialization.',\n",
       "   u'Course Notes:',\n",
       "   u'Required of concentrators in the African American Studies track. Students ',\n",
       "   u'who transfer into the concentration after their sophomore year may ',\n",
       "   u'substitute another African and African American Studies course already ',\n",
       "   u'taken if they satisfy the Director of Undergraduate Studies that it establishes ',\n",
       "   u'a basic familiarity with the materials covered in African and African American',\n",
       "   u'Studies 10. This course, when taken for a letter grade, meets the General ',\n",
       "   u'Education requirement for United States in the World. This course fulfills the ',\n",
       "   u'requirement that one of the eight General Education courses also engage ',\n",
       "   u'substantially with Study of the Past.',\n",
       "   u'Additional Course Attributes:']},\n",
       " {'name': u'African & African Amer Studies   11 ',\n",
       "  'strings': [u'(123591)',\n",
       "   u'Jacob Olupona  ',\n",
       "   u'2017 Fall (4 Credits)',\n",
       "   u'Schedule: ',\n",
       "   u'R 0400 PM - 0559 PM',\n",
       "   u'Instructor Permissions:',\n",
       "   u'None',\n",
       "   u'Enrollment Cap:',\n",
       "   u'n/a',\n",
       "   u'This course introduces students to the general outlines of African archeology, history and geography, as well as key',\n",
       "   u'concepts in the study of African health, social life , economic situation, arts, and politics. Our aim is to give students ',\n",
       "   u'a fundamental vocabulary and interdisciplinary methodology for the study of Africa. Throughout, we assume that ',\n",
       "   u'Africa is not a unique isolate but a continent bubbling with internal diversity, historical change, and cultural ',\n",
       "   u'connections beyond its shores. The course is open to all students who are interested in exploring various ',\n",
       "   u'dimensions of African life and cultures in ancient and modern periods.',\n",
       "   u'Course Notes:',\n",
       "   u'Required of concentrators in African Studies track. This course, when taken ',\n",
       "   u'for a letter grade, meets the General Education requirement for Societies of ',\n",
       "   u'the World.',\n",
       "   u'Additional Course Attributes:']}]"
      ]
     },
     "execution_count": 72,
     "metadata": {},
     "output_type": "execute_result"
    }
   ],
   "source": [
    "# groups[0:10]"
   ]
  },
  {
   "cell_type": "code",
   "execution_count": 73,
   "metadata": {
    "collapsed": true
   },
   "outputs": [],
   "source": [
    "# dump data to file\n",
    "\n",
    "import json\n",
    "with open('courses_rough.json', 'w') as outfile:\n",
    "    json.dump(groups, outfile)"
   ]
  },
  {
   "cell_type": "code",
   "execution_count": null,
   "metadata": {
    "collapsed": true
   },
   "outputs": [],
   "source": []
  },
  {
   "cell_type": "code",
   "execution_count": null,
   "metadata": {
    "collapsed": true
   },
   "outputs": [],
   "source": []
  }
 ],
 "metadata": {
  "anaconda-cloud": {},
  "kernelspec": {
   "display_name": "Python [default]",
   "language": "python",
   "name": "python2"
  },
  "language_info": {
   "codemirror_mode": {
    "name": "ipython",
    "version": 2
   },
   "file_extension": ".py",
   "mimetype": "text/x-python",
   "name": "python",
   "nbconvert_exporter": "python",
   "pygments_lexer": "ipython2",
   "version": "2.7.12"
  }
 },
 "nbformat": 4,
 "nbformat_minor": 2
}
